{
 "cells": [
  {
   "cell_type": "code",
   "execution_count": 1,
   "metadata": {},
   "outputs": [],
   "source": [
    "import numpy as np\n",
    "import torch\n",
    "from scipy.io import loadmat\n",
    "import pandas as pd"
   ]
  },
  {
   "cell_type": "code",
   "execution_count": 2,
   "metadata": {},
   "outputs": [],
   "source": [
    "def SkewSymmMatr(a : np.array) -> np.array:\n",
    "    Ax= np.array(\n",
    "        [[0.0,-a[2],a[1]],\n",
    "        [a[2],0.0,-a[0]],\n",
    "        [-a[1],a[0],0.0]])\n",
    "    return Ax"
   ]
  },
  {
   "cell_type": "code",
   "execution_count": 3,
   "metadata": {},
   "outputs": [],
   "source": [
    "def cross(a : np.array ,b : np.array) -> np.array:\n",
    "    axb = SkewSymmMatr(a) @ b\n",
    "    return axb"
   ]
  },
  {
   "cell_type": "code",
   "execution_count": 4,
   "metadata": {},
   "outputs": [],
   "source": [
    "def twoPiBound(heading : float) -> float:\n",
    "    if heading < 0:\n",
    "        heading = heading + 2.0 * np.pi\n",
    "\n",
    "    return heading"
   ]
  },
  {
   "cell_type": "code",
   "execution_count": 5,
   "metadata": {},
   "outputs": [],
   "source": [
    "def LatLonAlt2XYZ(Lat : float,Lon : float,Alt : float) -> tuple:\n",
    "    a_e = 6378137\n",
    "    ecc = 0.081819190842622\n",
    "    ksi = 1.0 / np.sqrt(1 - ecc * ecc * np.sin(Lat) * np.sin(Lat))\n",
    "    X = (a_e * ksi + Alt) * np.cos(Lat) * np.cos(Lon)\n",
    "    Y = (a_e * ksi + Alt) * np.cos(Lat) * np.sin(Lon)\n",
    "    Z = (a_e * ksi * (1 - ecc * ecc) + Alt) * np.sin(Lat)\n",
    "    return X, Y, Z"
   ]
  },
  {
   "cell_type": "code",
   "execution_count": 6,
   "metadata": {},
   "outputs": [],
   "source": [
    "def CalcGravity(X:float,Y:float,Z:float)->np.array:\n",
    "    t2 = X ** 2.0\n",
    "    t3 = Y ** 2.0\n",
    "    t4 = Z ** 2.0\n",
    "    t5 = t2 + t3 + t4\n",
    "    t6 = 1.0 / t5 ** (3.0 / 2.0)\n",
    "    t7 = 1.0 / t5 ** (5.0 / 2.0)\n",
    "    t8 = 1.0 / t5 ** (7.0 / 2.0)\n",
    "    g = np.array([\n",
    "       X * 5.3174941173225e-9-X * t6 * 3.9860142624e14-X * t7 * 2.633274580483414e25 + X * t4 * t8 * 1.316637290241707e26,\n",
    "       Y * 5.3174941173225e-9 - Y * t6 * 3.9860142624e14 - Y * t7 * 2.633274580483414e25 + Y * t4 * t8 * 1.316637290241707e26,\n",
    "       Z * t6 * -3.9860142624e14 - Z * t7 * 7.899823741450242e25 + Z * t4 * t8 * 1.316637290241707e26])\n",
    "    return g"
   ]
  },
  {
   "cell_type": "code",
   "execution_count": 7,
   "metadata": {},
   "outputs": [],
   "source": [
    "def CalcDCMnue_align(Pos : list,fb : np.array,om_ib : np.array) -> np.array:\n",
    "    #nue->ned\n",
    "    fb =np.array([fb[0],fb[2],-fb[1]])\n",
    "    om_ib = np.array([om_ib[0],om_ib[2],-om_ib[1]])\n",
    "\n",
    "    om_ie = 7.292115e-5\n",
    "\n",
    "    cosB = np.cos(Pos[0])\n",
    "    sinB = np.sin(Pos[0])\n",
    "    cosL = np.cos(Pos[1])\n",
    "    sinL = np.sin(Pos[1])\n",
    "\n",
    "    Lat = Pos[0]\n",
    "\n",
    "    (X,Y,Z) = LatLonAlt2XYZ(Pos[0],Pos[1],Pos[2])\n",
    "    gravity = CalcGravity(X,Y,Z)\n",
    "\n",
    "    gt = -cosL*sinB*gravity[0] - sinL*sinB*gravity[1] + cosB*gravity[2]\n",
    "    gn = -(cosL*cosB*gravity[0] + sinL*cosB*gravity[1] + sinB*gravity[2])\n",
    "\n",
    "    b1 = -fb\n",
    "    b2 = om_ib\n",
    "    b3 = cross(b1, b2)\n",
    "\n",
    "    Mb = np.array([b1,b2,b3])\n",
    "\n",
    "    Mn = np.array([[np.sin(Lat) / (gn * np.cos(Lat) + gt * np.sin(Lat)),gn / (gn * om_ie * np.cos(Lat) + gt * om_ie * np.sin(Lat)),0 ],\n",
    "                  [0,0, 1 / (gn * om_ie * np.cos(Lat) + gt * om_ie * np.sin(Lat))],\n",
    "                  [np.cos(Lat) / (gn * np.cos(Lat)+ gt * np.sin(Lat)),  -gt / (gn * om_ie * np.cos(Lat) + gt * om_ie * np.sin(Lat)), 0 ]] )\n",
    "\n",
    "    R_nb = Mn @ Mb\n",
    "\n",
    "    DCM = R_nb.T\n",
    "\n",
    "    return DCM"
   ]
  },
  {
   "cell_type": "code",
   "execution_count": 8,
   "metadata": {},
   "outputs": [],
   "source": [
    "def quat(H, gamma, theta):\n",
    "  q0 = np.cos(H/2)*np.cos(theta/2)*np.cos(gamma/2)+np.sin(H/2)*np.sin(theta/2)*np.sin(gamma/2) \n",
    "  q1 = np.cos(H/2)*np.sin(theta/2)*np.cos(gamma/2)+np.sin(H/2)*np.cos(theta/2)*np.sin(gamma/2) #+\n",
    "  q2 = np.cos(H/2)*np.cos(theta/2)*np.sin(gamma/2)-np.sin(H/2)*np.sin(theta/2)*np.cos(gamma/2) #-\n",
    "  q3 = np.cos(H/2)*np.sin(theta/2)*np.sin(gamma/2)-np.sin(H/2)*np.cos(theta/2)*np.cos(gamma/2) #-\n",
    "  Q = np.array([q0, q1, q2, q3])\n",
    "  return Q"
   ]
  },
  {
   "cell_type": "code",
   "execution_count": 9,
   "metadata": {},
   "outputs": [],
   "source": [
    "# МНК BODY-> Navigation (ENUp)\n",
    "def DCM_bn(heading : float, pitch : float, roll : float) -> np.array:\n",
    "    sz = np.sin(-heading)\n",
    "    cz = np.cos(-heading)\n",
    "    sy = np.sin(roll)\n",
    "    cy = np.cos(roll)\n",
    "    sx = np.sin(pitch)\n",
    "    cx = np.cos(pitch)\n",
    "\n",
    "    Cx = np.array([[1, 0, 0],[0, cx, sx],[0, -sx, cx]],dtype = np.float64)\n",
    "    Cy = np.array([[cy, 0, -sy],[0, 1, 0],[sy, 0, cy]],dtype = np.float64)\n",
    "    Cz = np.array([[cz, sz, 0],[-sz, cz, 0],[0, 0, 1]],dtype = np.float64)\n",
    "\n",
    "    Cnb = Cy @ Cx @ Cz\n",
    "\n",
    "    return Cnb.T"
   ]
  },
  {
   "cell_type": "code",
   "execution_count": 10,
   "metadata": {},
   "outputs": [],
   "source": [
    "def quat2DCM(Q2:np.array):\n",
    "  c11 = Q2[0]**2 + Q2[1]**2 - Q2[2]**2 - Q2[3]**2\n",
    "  c12 = 2*(Q2[1]*Q2[2] - Q2[0]*Q2[3])\n",
    "  c13 = 2*(Q2[1]*Q2[3] + Q2[0]*Q2[2])\n",
    "  c21 = 2*(Q2[1]*Q2[2] + Q2[0]*Q2[3])\n",
    "  c22 = Q2[0]**2 - Q2[1]**2 + Q2[2]**2 - Q2[3]**2\n",
    "  c23 = 2*(Q2[2]*Q2[3] - Q2[0]*Q2[1])\n",
    "  c31 = 2*(Q2[1]*Q2[3] - Q2[0]*Q2[2])\n",
    "  c32 = 2*(Q2[2]*Q2[3] + Q2[0]*Q2[1])\n",
    "  c33 = Q2[0]**2 - Q2[1]**2 - Q2[2]**2 + Q2[3]**2\n",
    "  C_bLL = np.array([[c11, c12, c13], [c21, c22, c23], [c31, c32, c33]])\n",
    "  return C_bLL"
   ]
  },
  {
   "cell_type": "code",
   "execution_count": 22,
   "metadata": {},
   "outputs": [],
   "source": [
    "mat = loadmat('data/nav.binB_03.mat')\n",
    "data_df = pd.DataFrame(mat['UAV'])\n",
    "data = data_df.to_numpy().T\n",
    "data = np.delete(data, 0, 1)\n",
    "data = data[405500:,:]\n",
    "n = data.shape[0]\n",
    "acc = data[:,9:12]\n",
    "gyro = data[:,12:15]\n",
    "\n",
    "GPSQuality = data[:,23]\n",
    "GPS = data[:,17:23]\n",
    "GPS[:,0:2] = GPS[:,0:2] * np.pi / 180\n",
    "\n",
    "StatusMS = data[:, 33]\n",
    "MagnSens = data[:, 30:33] * 10\n",
    "MagnSens[:,1:3] = -1 * MagnSens[:,1:3]\n",
    "\n",
    "dt = 1 / 100\n",
    "deg_to_rad = np.pi/180\n",
    "rad_to_deg = 1/deg_to_rad"
   ]
  },
  {
   "cell_type": "code",
   "execution_count": 12,
   "metadata": {},
   "outputs": [],
   "source": [
    "def threeaxisrot(r11, r12, r21, r31, r32):\n",
    "    r1 = np.arctan2(r11,r12)\n",
    "    r2 = np.arcsin(r21)\n",
    "    r3 = np.arctan2(r31,r32)\n",
    "    return r1,r2,r3\n",
    "\n",
    "def EulerFromDCMnue(dcm):\n",
    "    (r1, r2, r3) = threeaxisrot(dcm[0, 1],dcm[0,0], -dcm[0, 2],dcm[1, 2], dcm[2, 2])\n",
    "    return (r1, r2, r3)"
   ]
  },
  {
   "cell_type": "code",
   "execution_count": 13,
   "metadata": {},
   "outputs": [],
   "source": [
    "Alignment = 60000\n",
    "Lat = GPS[Alignment,0]\n",
    "Lon = GPS[Alignment,1]\n",
    "Alt = GPS[Alignment,2]\n",
    "W_NUE = GPS[Alignment,3:6]\n",
    "W_NUE_old = W_NUE\n",
    "Lat_old = Lat\n",
    "Alt_old = Alt\n",
    "Roll = 0\n",
    "Pitch = 0\n",
    "Heading = 0\n",
    "C_B_N = np.eye(3)\n",
    "NavState = np.zeros(26)\n",
    "MS_mean_count = 0\n",
    "gyros_mean_count = 0\n",
    "accels_mean = np.zeros(3)\n",
    "gyros_mean = np.zeros(3)\n",
    "MS_mean = np.zeros(3)"
   ]
  },
  {
   "cell_type": "code",
   "execution_count": 14,
   "metadata": {},
   "outputs": [],
   "source": [
    "for i in range(Alignment):\n",
    "    accels_mean = accels_mean + acc[i, :]\n",
    "    gyros_mean = gyros_mean + gyro[i, :]\n",
    "    gyros_mean_count = gyros_mean_count + 1\n",
    "    if (StatusMS[i] == 2):\n",
    "        MS_mean = MS_mean + MagnSens[i]\n",
    "        MS_mean_count = MS_mean_count + 1"
   ]
  },
  {
   "cell_type": "code",
   "execution_count": 15,
   "metadata": {},
   "outputs": [],
   "source": [
    "accels_mean = (accels_mean/gyros_mean_count) / dt # Осреднение показаний акселерометров. Используется счетчик данных гироскопа\n",
    "gyros_mean = (gyros_mean/gyros_mean_count) / dt # Осреднение показаний гироскопов + пересчет в рад/сек\n",
    "MS_mean = (MS_mean / MS_mean_count)\n",
    "# если датчики - ВОГ, то проводится определение курса методом гирокомпасирования\n",
    "Rbn = CalcDCMnue_align([Lat,Lon,Alt],accels_mean,gyros_mean)\n",
    "(Heading, Pitch, Roll) = EulerFromDCMnue(Rbn)\n",
    "C_B_N = DCM_bn(Heading,Pitch,Roll) # Расчет DCM\n",
    "Heading = twoPiBound(Heading)  # Ограничение\n",
    "Sensors = np.zeros((6,),dtype = np.float64)\n",
    "Q = quat(Heading, Roll, Pitch)"
   ]
  },
  {
   "cell_type": "code",
   "execution_count": 16,
   "metadata": {},
   "outputs": [
    {
     "name": "stdout",
     "output_type": "stream",
     "text": [
      "Параметры после выставки\n",
      "Курс \n",
      "333.2617518321868\n",
      "Тангаж \n",
      "6.023054025873441\n",
      "Крен \n",
      "-0.8737296834068249\n",
      "Широта \n",
      "54.9797978\n",
      "Долгота \n",
      "37.663690100000004\n",
      "Высота \n",
      "192.796\n",
      "W_N \n",
      "-0.054999999701976776\n",
      "W_U \n",
      "-0.0430000014603138\n",
      "W_E \n",
      "0.08799999952316284\n"
     ]
    }
   ],
   "source": [
    "print(\"Параметры после выставки\")\n",
    "print(\"Курс \")\n",
    "print(Heading * (180 / np.pi))\n",
    "print(\"Тангаж \")\n",
    "print(Pitch * (180 / np.pi))\n",
    "print(\"Крен \")\n",
    "print(Roll * (180 / np.pi))\n",
    "print(\"Широта \")\n",
    "print(Lat * (180 / np.pi))\n",
    "print(\"Долгота \")\n",
    "print(Lon * (180 / np.pi))\n",
    "print(\"Высота \")\n",
    "print(Alt)\n",
    "print(\"W_N \")\n",
    "print(W_NUE[0])\n",
    "print(\"W_U \")\n",
    "print(W_NUE[1])\n",
    "print(\"W_E \")\n",
    "print(W_NUE[2])"
   ]
  },
  {
   "cell_type": "code",
   "execution_count": 24,
   "metadata": {},
   "outputs": [],
   "source": [
    "acc = acc[:,[2,0,1]]\n",
    "gyro= gyro[:,[2,0,1]]"
   ]
  },
  {
   "cell_type": "code",
   "execution_count": 18,
   "metadata": {},
   "outputs": [],
   "source": [
    "C_B_N = torch.Tensor(C_B_N)\n",
    "acc = torch.Tensor(acc)\n",
    "gyro = torch.Tensor(gyro)"
   ]
  },
  {
   "cell_type": "code",
   "execution_count": 25,
   "metadata": {},
   "outputs": [
    {
     "data": {
      "text/plain": [
       "array([0.0014615, 0.0014615, 0.0014615])"
      ]
     },
     "execution_count": 25,
     "metadata": {},
     "output_type": "execute_result"
    }
   ],
   "source": [
    "acc[100,:]"
   ]
  },
  {
   "cell_type": "code",
   "execution_count": 20,
   "metadata": {},
   "outputs": [],
   "source": [
    "def SINS(Q : torch.Tensor, acc : torch.Tensor, gyro : torch.Tensor):\n",
    "    pass"
   ]
  },
  {
   "cell_type": "code",
   "execution_count": null,
   "metadata": {},
   "outputs": [],
   "source": []
  }
 ],
 "metadata": {
  "kernelspec": {
   "display_name": "Python 3",
   "language": "python",
   "name": "python3"
  },
  "language_info": {
   "codemirror_mode": {
    "name": "ipython",
    "version": 3
   },
   "file_extension": ".py",
   "mimetype": "text/x-python",
   "name": "python",
   "nbconvert_exporter": "python",
   "pygments_lexer": "ipython3",
   "version": "3.10.4"
  },
  "orig_nbformat": 4
 },
 "nbformat": 4,
 "nbformat_minor": 2
}
