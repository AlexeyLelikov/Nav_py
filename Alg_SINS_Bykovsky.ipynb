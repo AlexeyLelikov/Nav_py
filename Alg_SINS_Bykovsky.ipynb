{
 "cells": [
  {
   "cell_type": "code",
   "execution_count": 19,
   "metadata": {
    "collapsed": true,
    "pycharm": {
     "name": "#%%\n"
    }
   },
   "outputs": [],
   "source": [
    "import numpy as np\n",
    "import matplotlib.pyplot as plt\n",
    "from scipy.io import loadmat\n",
    "import pandas as pd"
   ]
  },
  {
   "cell_type": "code",
   "execution_count": 20,
   "outputs": [],
   "source": [
    "def LatLonAlt2XYZ(Lat : float,Lon : float,Alt : float) -> tuple:\n",
    "    a_e = 6378137\n",
    "    ecc = 0.081819190842622\n",
    "    ksi = 1.0 / np.sqrt(1 - ecc * ecc * np.sin(Lat) * np.sin(Lat))\n",
    "    X = (a_e * ksi + Alt) * np.cos(Lat) * np.cos(Lon)\n",
    "    Y = (a_e * ksi + Alt) * np.cos(Lat) * np.sin(Lon)\n",
    "    Z = (a_e * ksi * (1 - ecc * ecc) + Alt) * np.sin(Lat)\n",
    "    return X, Y, Z"
   ],
   "metadata": {
    "collapsed": false,
    "pycharm": {
     "name": "#%%\n"
    }
   }
  },
  {
   "cell_type": "code",
   "execution_count": 21,
   "outputs": [],
   "source": [
    "def CalcGravity(X:float,Y:float,Z:float)->np.array:\n",
    "    t2 = X ** 2.0\n",
    "    t3 = Y ** 2.0\n",
    "    t4 = Z ** 2.0\n",
    "    t5 = t2 + t3 + t4\n",
    "    t6 = 1.0 / t5 ** (3.0 / 2.0)\n",
    "    t7 = 1.0 / t5 ** (5.0 / 2.0)\n",
    "    t8 = 1.0 / t5 ** (7.0 / 2.0)\n",
    "    g = np.array([\n",
    "       X * 5.3174941173225e-9-X * t6 * 3.9860142624e14-X * t7 * 2.633274580483414e25 + X * t4 * t8 * 1.316637290241707e26,\n",
    "       Y * 5.3174941173225e-9 - Y * t6 * 3.9860142624e14 - Y * t7 * 2.633274580483414e25 + Y * t4 * t8 * 1.316637290241707e26,\n",
    "       Z * t6 * -3.9860142624e14 - Z * t7 * 7.899823741450242e25 + Z * t4 * t8 * 1.316637290241707e26])\n",
    "    return g"
   ],
   "metadata": {
    "collapsed": false,
    "pycharm": {
     "name": "#%%\n"
    }
   }
  },
  {
   "cell_type": "code",
   "execution_count": 22,
   "outputs": [],
   "source": [
    "def SkewSymmMatr(a : np.array) -> np.array:\n",
    "    Ax= np.array(\n",
    "        [[0.0,-a[2],a[1]],\n",
    "        [a[2],0.0,-a[0]],\n",
    "        [-a[1],a[0],0.0]])\n",
    "    return Ax"
   ],
   "metadata": {
    "collapsed": false,
    "pycharm": {
     "name": "#%%\n"
    }
   }
  },
  {
   "cell_type": "code",
   "execution_count": 23,
   "outputs": [],
   "source": [
    "def cross(a : np.array ,b : np.array) -> np.array:\n",
    "    axb = SkewSymmMatr(a) @ b\n",
    "    return axb"
   ],
   "metadata": {
    "collapsed": false,
    "pycharm": {
     "name": "#%%\n"
    }
   }
  },
  {
   "cell_type": "code",
   "execution_count": 24,
   "outputs": [],
   "source": [
    "def twoPiBound(heading : float) -> float:\n",
    "    if heading < 0:\n",
    "        heading = heading + 2.0 * np.pi\n",
    "\n",
    "    return heading"
   ],
   "metadata": {
    "collapsed": false,
    "pycharm": {
     "name": "#%%\n"
    }
   }
  },
  {
   "cell_type": "code",
   "execution_count": 25,
   "outputs": [],
   "source": [
    "def DCM_bn(heading : float, pitch : float, roll : float) -> np.array:\n",
    "    sz = np.sin(pitch)\n",
    "    cz = np.cos(pitch)\n",
    "    sy = np.sin(-heading)\n",
    "    cy = np.cos(-heading)\n",
    "    sx = np.sin(roll)\n",
    "    cx = np.cos(roll)\n",
    "\n",
    "    Cx = np.array([[1, 0, 0],[0, cx, sx],[0, -sx, cx]],dtype = np.float64)\n",
    "    Cy = np.array([[cy, 0, -sy],[0, 1, 0],[sy, 0, cy]],dtype = np.float64)\n",
    "    Cz = np.array([[cz, sz, 0],[-sz, cz, 0],[0, 0, 1]],dtype = np.float64)\n",
    "\n",
    "    Cnb = Cx @ Cz @ Cy\n",
    "\n",
    "    return Cnb.T"
   ],
   "metadata": {
    "collapsed": false,
    "pycharm": {
     "name": "#%%\n"
    }
   }
  },
  {
   "cell_type": "code",
   "execution_count": 26,
   "outputs": [],
   "source": [
    "def Calc_F_C_N(B : float,h : float,a_e : float,ecc2 : float) -> np.array:\n",
    "    sinB = np.sin(B)\n",
    "    sinB2 = sinB * sinB\n",
    "\n",
    "    R_N = a_e * (1 - ecc2) / (1 - ecc2 * sinB2) ** 1.5 + h\n",
    "\n",
    "    R_E = a_e / np.sqrt(1 - ecc2 * sinB2) + h\n",
    "\n",
    "    F_C_N = np.array([\n",
    "        [0.0,0.0,1.0 / R_E],\n",
    "        [0.0,0.0,np.tan(B)/R_E],\n",
    "        [-1.0/R_N,0.0,0.0]])\n",
    "\n",
    "    return F_C_N"
   ],
   "metadata": {
    "collapsed": false,
    "pycharm": {
     "name": "#%%\n"
    }
   }
  },
  {
   "cell_type": "code",
   "execution_count": 27,
   "outputs": [],
   "source": [
    "def CalcDCMnue_align(Pos : list,fb : np.array,om_ib : np.array) -> np.array:\n",
    "    #nue->ned\n",
    "    fb =np.array([fb[0],fb[2],-fb[1]])\n",
    "    om_ib = np.array([om_ib[0],om_ib[2],-om_ib[1]])\n",
    "\n",
    "    om_ie = 7.292115e-5\n",
    "\n",
    "    cosB = np.cos(Pos[0])\n",
    "    sinB = np.sin(Pos[0])\n",
    "    cosL = np.cos(Pos[1])\n",
    "    sinL = np.sin(Pos[1])\n",
    "\n",
    "    Lat = Pos[0]\n",
    "\n",
    "    (X,Y,Z) = LatLonAlt2XYZ(Pos[0],Pos[1],Pos[2])\n",
    "    gravity = CalcGravity(X,Y,Z)\n",
    "\n",
    "    gt = -cosL*sinB*gravity[0] - sinL*sinB*gravity[1] + cosB*gravity[2]\n",
    "    gn = -(cosL*cosB*gravity[0] + sinL*cosB*gravity[1] + sinB*gravity[2])\n",
    "\n",
    "    b1 = -fb\n",
    "    b2 = om_ib\n",
    "    b3 = cross(b1, b2)\n",
    "\n",
    "    Mb = np.array([b1,b2,b3])\n",
    "\n",
    "    Mn = np.array([[np.sin(Lat) / (gn * np.cos(Lat) + gt * np.sin(Lat)),gn / (gn * om_ie * np.cos(Lat) + gt * om_ie * np.sin(Lat)),0 ],\n",
    "                  [0,0, 1 / (gn * om_ie * np.cos(Lat) + gt * om_ie * np.sin(Lat))],\n",
    "                  [np.cos(Lat) / (gn * np.cos(Lat)+ gt * np.sin(Lat)),  -gt / (gn * om_ie * np.cos(Lat) + gt * om_ie * np.sin(Lat)), 0 ]] )\n",
    "\n",
    "    R_nb = Mn @ Mb\n",
    "\n",
    "    DCM = R_nb.T\n",
    "\n",
    "    return DCM"
   ],
   "metadata": {
    "collapsed": false,
    "pycharm": {
     "name": "#%%\n"
    }
   }
  },
  {
   "cell_type": "code",
   "execution_count": 28,
   "outputs": [],
   "source": [
    "def threeaxisrot(r11, r12, r21, r31, r32):\n",
    "    r1 = np.arctan2(r11,r12)\n",
    "    r2 = np.arcsin(r21)\n",
    "    r3 = np.arctan2(r31,r32)\n",
    "    return r1,r2,r3\n",
    "\n",
    "def EulerFromDCMnue(dcm):\n",
    "    (r1, r2, r3) = threeaxisrot(dcm[0, 1],dcm[0,0], -dcm[0, 2],dcm[1, 2], dcm[2, 2])\n",
    "    return (r1, r2, r3)"
   ],
   "metadata": {
    "collapsed": false,
    "pycharm": {
     "name": "#%%\n"
    }
   }
  },
  {
   "cell_type": "markdown",
   "source": [
    "### Загрузка данных"
   ],
   "metadata": {
    "collapsed": false,
    "pycharm": {
     "name": "#%% md\n"
    }
   }
  },
  {
   "cell_type": "code",
   "execution_count": 29,
   "outputs": [],
   "source": [
    "mat = loadmat('data/nav.binB_03.mat')\n",
    "data_df = pd.DataFrame(mat['UAV'])\n",
    "data = data_df.to_numpy().T\n",
    "data = np.delete(data, 0, 1)\n",
    "data = data[405500:,:]\n",
    "Sensors = np.zeros((6,2),dtype = np.float64)\n",
    "n = data.shape[0]\n",
    "acc = data[:,9:12]\n",
    "gyro = data[:,12:15]\n",
    "\n",
    "GPSQuality = data[:,23]\n",
    "GPS = data[:,17:23]\n",
    "GPS[:,0:2] = GPS[:,0:2] * np.pi / 180\n",
    "\n",
    "StatusMS = data[:, 33]\n",
    "MagnSens = data[:, 30:33] * 10\n",
    "MagnSens[:,1:3] = -1 * MagnSens[:,1:3]\n",
    "\n",
    "dt = 1 / 100\n",
    "deg_to_rad = np.pi/180\n",
    "rad_to_deg = 1/deg_to_rad"
   ],
   "metadata": {
    "collapsed": false,
    "pycharm": {
     "name": "#%%\n"
    }
   }
  },
  {
   "cell_type": "markdown",
   "source": [
    "## Выставка"
   ],
   "metadata": {
    "collapsed": false,
    "pycharm": {
     "name": "#%% md\n"
    }
   }
  },
  {
   "cell_type": "code",
   "execution_count": 30,
   "outputs": [],
   "source": [
    "Alignment = 60000\n",
    "Lat = GPS[Alignment,0]\n",
    "Lon = GPS[Alignment,1]\n",
    "Alt = GPS[Alignment,2]\n",
    "W_NUE = GPS[Alignment,3:6]\n",
    "W_NUE_old = W_NUE\n",
    "Lat_old = Lat\n",
    "Alt_old = Alt\n",
    "Roll = 0\n",
    "Pitch = 0\n",
    "Heading = 0\n",
    "C_B_N = np.eye(3)\n",
    "NavState = np.zeros(26)\n",
    "MS_mean_count = 0\n",
    "gyros_mean_count = 0\n",
    "accels_mean = np.zeros(3)\n",
    "gyros_mean = np.zeros(3)\n",
    "MS_mean = np.zeros(3)"
   ],
   "metadata": {
    "collapsed": false,
    "pycharm": {
     "name": "#%%\n"
    }
   }
  },
  {
   "cell_type": "markdown",
   "source": [
    "### Накопление данных"
   ],
   "metadata": {
    "collapsed": false,
    "pycharm": {
     "name": "#%% md\n"
    }
   }
  },
  {
   "cell_type": "code",
   "execution_count": 31,
   "outputs": [],
   "source": [
    "for i in range(Alignment):\n",
    "    accels_mean = accels_mean + acc[i, :]\n",
    "    gyros_mean = gyros_mean + gyro[i, :]\n",
    "    gyros_mean_count = gyros_mean_count + 1\n",
    "    if (StatusMS[i] == 2):\n",
    "        MS_mean = MS_mean + MagnSens[i]\n",
    "        MS_mean_count = MS_mean_count + 1"
   ],
   "metadata": {
    "collapsed": false,
    "pycharm": {
     "name": "#%%\n"
    }
   }
  },
  {
   "cell_type": "markdown",
   "source": [
    "### Расчет углов крена и тангажа,определение курса методом гирокомпасирования"
   ],
   "metadata": {
    "collapsed": false,
    "pycharm": {
     "name": "#%% md\n"
    }
   }
  },
  {
   "cell_type": "code",
   "execution_count": 32,
   "outputs": [],
   "source": [
    "accels_mean = (accels_mean/gyros_mean_count) / dt # Осреднение показаний акселерометров. Используется счетчик данных гироскопа\n",
    "gyros_mean = (gyros_mean/gyros_mean_count) / dt # Осреднение показаний гироскопов + пересчет в рад/сек\n",
    "MS_mean = (MS_mean / MS_mean_count)\n",
    "# если датчики - ВОГ, то проводится определение курса методом гирокомпасирования\n",
    "Rbn = CalcDCMnue_align([Lat,Lon,Alt],accels_mean,gyros_mean)\n",
    "(Heading, Pitch, Roll) = EulerFromDCMnue(Rbn)\n",
    "C_B_N = DCM_bn(Heading,Pitch,Roll) # Расчет DCM\n",
    "Heading = twoPiBound(Heading)  # Ограничение\n",
    "C_I_B = C_B_N.T\n",
    "C_I_N = C_B_N.T\n",
    "Sensors = np.zeros((6,),dtype = np.float64)"
   ],
   "metadata": {
    "collapsed": false,
    "pycharm": {
     "name": "#%%\n"
    }
   }
  },
  {
   "cell_type": "code",
   "execution_count": 33,
   "outputs": [
    {
     "data": {
      "text/plain": "array([0., 0., 0., 0., 0., 0.])"
     },
     "execution_count": 33,
     "metadata": {},
     "output_type": "execute_result"
    }
   ],
   "source": [
    "Sensors"
   ],
   "metadata": {
    "collapsed": false,
    "pycharm": {
     "name": "#%%\n"
    }
   }
  },
  {
   "cell_type": "code",
   "execution_count": 34,
   "outputs": [
    {
     "name": "stdout",
     "output_type": "stream",
     "text": [
      "Параметры после выставки\n",
      "Курс \n",
      "333.2617518321868\n",
      "Тангаж \n",
      "6.023054025873441\n",
      "Крен \n",
      "-0.8737296834068249\n",
      "Широта \n",
      "54.9797978\n",
      "Долгота \n",
      "37.663690100000004\n",
      "Высота \n",
      "192.796\n",
      "W_N \n",
      "-0.054999999701976776\n",
      "W_U \n",
      "-0.0430000014603138\n",
      "W_E \n",
      "0.08799999952316284\n"
     ]
    }
   ],
   "source": [
    "print(\"Параметры после выставки\")\n",
    "print(\"Курс \")\n",
    "print(Heading * (180 / np.pi))\n",
    "print(\"Тангаж \")\n",
    "print(Pitch * (180 / np.pi))\n",
    "print(\"Крен \")\n",
    "print(Roll * (180 / np.pi))\n",
    "print(\"Широта \")\n",
    "print(Lat * (180 / np.pi))\n",
    "print(\"Долгота \")\n",
    "print(Lon * (180 / np.pi))\n",
    "print(\"Высота \")\n",
    "print(Alt)\n",
    "print(\"W_N \")\n",
    "print(W_NUE[0])\n",
    "print(\"W_U \")\n",
    "print(W_NUE[1])\n",
    "print(\"W_E \")\n",
    "print(W_NUE[2])"
   ],
   "metadata": {
    "collapsed": false,
    "pycharm": {
     "name": "#%%\n"
    }
   }
  },
  {
   "cell_type": "code",
   "execution_count": 37,
   "outputs": [],
   "source": [
    "NavState = np.array([Lat,Lon,Alt,          # Широта, долгота, геодезическая высота\n",
    "                   W_NUE[0],W_NUE[1],W_NUE[2]])           # Скорость на север, вверх, на восток"
   ],
   "metadata": {
    "collapsed": false,
    "pycharm": {
     "name": "#%%\n"
    }
   }
  },
  {
   "cell_type": "code",
   "execution_count": 38,
   "outputs": [],
   "source": [
    "# Статические переменные\n",
    "Om_e = 7.292115e-5\n",
    "E = np.array([[1.0,0.0,0.0],[0.0,1.0,0.0],[0.0,0.0,1.0]],dtype = np.float64)\n",
    "# Используется ПЗ-90\n",
    "a_e = 6378136.0\n",
    "ecc = 0.0818191065283638\n",
    "ecc2 = ecc * ecc\n",
    "iter = 0\n",
    "delta_v_array = np.zeros((3,4))\n",
    "delta_alfa_array = np.zeros((3,4))"
   ],
   "metadata": {
    "collapsed": false,
    "pycharm": {
     "name": "#%%\n"
    }
   }
  },
  {
   "cell_type": "code",
   "execution_count": 39,
   "outputs": [
    {
     "data": {
      "text/plain": "array([[0., 0., 0., 0.],\n       [0., 0., 0., 0.],\n       [0., 0., 0., 0.]])"
     },
     "execution_count": 39,
     "metadata": {},
     "output_type": "execute_result"
    }
   ],
   "source": [
    "delta_v_array"
   ],
   "metadata": {
    "collapsed": false,
    "pycharm": {
     "name": "#%%\n"
    }
   }
  },
  {
   "cell_type": "code",
   "execution_count": 40,
   "outputs": [],
   "source": [
    "def SINS(NavState : np.array, Sensors : np.array, dt : int, C_i_b : np.array, C_i_n : np.array ) -> tuple:\n",
    "\n",
    "    global Om_e\n",
    "    global E\n",
    "\n",
    "    # Используется ПЗ-90\n",
    "    global a_e\n",
    "    global ecc2\n",
    "    global iter\n",
    "    global delta_v_array\n",
    "    global delta_alfa_array\n",
    "\n",
    "    # переменные квази-скоростей и квази-угллов\n",
    "    delta_v = Sensors[0:3,0] # выходной сигнал акселерометра по осям чувствительности (x,y,z) на текущем такте расчетов\n",
    "    delta_alpha = Sensors[3:6,0] # выходной сигнал гироскопов (скорость) по оси (x,y,z) на текущем такте расчетов\n",
    "    delta_v_array[0:3,i] = delta_v\n",
    "    delta_alfa_array[0:3,i] = delta_alpha\n",
    "    iter += 1\n",
    "\n",
    "    if iter == 3:\n",
    "\n",
    "        B = NavState[0]\n",
    "        L = NavState[1]  # текущая  долгота ВС в выбранной СК\n",
    "        h = NavState[2]  # текущая  геодезическая высота ВС относительно эллипсоида выбранной СК\n",
    "        W = NavState[3:6] # текущий вектор земной скорости ВС (N,U,E)\n",
    "        sinB = np.sin(B)\n",
    "        cosB = np.cos(B)\n",
    "        sinL = np.sin(L)\n",
    "        cosL = np.cos(L)\n",
    "        sinB2 = sinB * sinB\n",
    "        R_N = a_e * (1 - ecc2) / (1 - ecc2 * sinB2) ** 1.5 + h\n",
    "        R_E = a_e / np.sqrt(1 - ecc2 * sinB2) + h\n",
    "        # Расчет вектора конечного поворота Эйлера (body)\n",
    "        alfa_1_2 = np.array([delta_alpha_array[0,0],delta_alpha_array[1,0], delta_alpha_array[2,0]])+np.array([delta_alpha_array[0,1],delta_alpha_array[1,1], delta_alpha_array[2,1]])\n",
    "        alfa_3_4 = np.array([delta_alpha_array[0,2],delta_alpha_array[1,2], delta_alpha_array[2,2]])+np.array([delta_alpha_array[0,3],delta_alpha_array[1,3], delta_alpha_array[2,3]])\n",
    "        alfa = alfa_1_2 + alfa_3_4\n",
    "        beta = 2 / 3 * cross(alfa_1_2,alfa_3_4) # коннинг\n",
    "        alfa = alfa + beta # вектор порота body эйлера\n",
    "        skew_alfa = SkewSymmMatr(alfa) # Коссосиметричная матрица\n",
    "        mod_alpha = np.sqrt(delta_alpha[0] * delta_alpha[0] + delta_alpha[1] * delta_alpha[1] + delta_alpha[2] * delta_alpha[2])\n",
    "        mod_alpha2 = mod_alpha * mod_alpha\n",
    "        # Расчет вектора конечного поворота (скорости) Эйлера (Navigation)\n",
    "        omega_IE_N = np.array([Om_e * cosB, Om_e * sinB, 0.0 ])\n",
    "        F_C_N = Calc_F_C_N(B, h, a_e, ecc2)\n",
    "        omega_sum = omega_IE_N + F_C_N @ W\n",
    "        skew_omega = SkewSymmMatr(omega_sum)\n",
    "        # нахождение МНК из body t-1 в body t при помощи решения уравенения Пуасона\n",
    "        C_b_b = E + (1 - mod_alpha2/6)*skew_alfa + (0.5 - mod_alpha2/24) * skew_alfa @ skew_alfa\n",
    "        C_i_b = C_b_b @ C_i_b  # Получили МНК из body в инерциальную в данный такт\n",
    "        # нахождение МНК из навигационной СК t-1 в навигационную СК t при помощи решения уравенения Пуасона\n",
    "        C_n_n = E - dt * skew_omega + (dt**2) / 2 * skew_omega @ skew_omega\n",
    "        C_i_n = C_n_n @ C_i_n\n",
    "        C_b_n = C_i_n @ C_i_b.T\n",
    "        #нормализация и ортогонализация мнк\n",
    "        C_i_b = (E - ((1.0 / 2.0) * ( C_i_b @  C_i_b.T - E))) @  C_i_b\n",
    "        C_i_n = (E - ((1.0 / 2.0) * ( C_i_n @  C_i_n.T - E))) @  C_i_n\n",
    "        C_b_n = (E - ((1.0 / 2.0) * ( C_b_n @  C_b_n.T - E))) @  C_b_n\n",
    "        #нахождение приращения линейных скоростей методом Рунге-Кутта 4-го порядка\n",
    "        delta_W = np.array([0,0,0])\n",
    "        for i in range(4):\n",
    "            skew_delta_alfa = SkewSymmMatr(delta_alfa_array[0:2,i])\n",
    "            w_b = delta_v_array[0:2,i]\n",
    "            k_1 = w_b - delta_alpha_sym @ delta_W\n",
    "            k_2 = w_b - delta_alpha_sym @ (delta_W + (dt / 2) * k_1)\n",
    "            k_3 = w_b - delta_alpha_sym @ (delta_W + (dt / 2) * k_2)\n",
    "            k_4 = w_b - delta_alpha_sym @ (delta_W + dt * k_3)\n",
    "            delta_W = delta_W + (k_1+2*k_2+2*k_3+k_4)/6\n",
    "        delta_W_n = C_b_N @ delta_W\n",
    "\n",
    "    return NavState ,gt ,C_i_b , C_i_n"
   ],
   "metadata": {
    "collapsed": false,
    "pycharm": {
     "name": "#%%\n"
    }
   }
  },
  {
   "cell_type": "code",
   "execution_count": null,
   "outputs": [],
   "source": [],
   "metadata": {
    "collapsed": false,
    "pycharm": {
     "name": "#%%\n"
    }
   }
  }
 ],
 "metadata": {
  "kernelspec": {
   "display_name": "Python 3",
   "language": "python",
   "name": "python3"
  },
  "language_info": {
   "codemirror_mode": {
    "name": "ipython",
    "version": 2
   },
   "file_extension": ".py",
   "mimetype": "text/x-python",
   "name": "python",
   "nbconvert_exporter": "python",
   "pygments_lexer": "ipython2",
   "version": "2.7.6"
  }
 },
 "nbformat": 4,
 "nbformat_minor": 0
}