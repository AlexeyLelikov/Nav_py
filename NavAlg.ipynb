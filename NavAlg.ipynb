{
 "cells": [
  {
   "cell_type": "code",
   "execution_count": 4,
   "metadata": {
    "colab": {
     "base_uri": "https://localhost:8080/"
    },
    "id": "EfolZvagDutD",
    "outputId": "6bcc43bb-fa82-46ff-c898-665a6281dd04",
    "pycharm": {
     "name": "#%%\n"
    }
   },
   "outputs": [],
   "source": []
  },
  {
   "cell_type": "code",
   "execution_count": 4,
   "metadata": {
    "colab": {
     "base_uri": "https://localhost:8080/",
     "height": 364
    },
    "id": "OB9puKqr3Szz",
    "outputId": "899802bf-6cc6-471b-f467-e7cd14102a41",
    "pycharm": {
     "name": "#%%\n"
    }
   },
   "outputs": [],
   "source": []
  },
  {
   "cell_type": "code",
   "execution_count": 5,
   "metadata": {
    "id": "0OE_BaQD57Xx",
    "pycharm": {
     "name": "#%%\n"
    }
   },
   "outputs": [],
   "source": [
    "import numpy as np\n",
    "from navpy import angle2quat\n",
    "import matplotlib.pyplot as pyplot\n",
    "import math\n",
    "import random\n",
    "\n",
    "deg2rad = np.pi/180\n",
    "rad2deg = 1/deg2rad\n",
    "\n",
    "g = 9.81 # m/s^2\n",
    "U = 15*deg2rad/3600 # rad/sec\n",
    "Re = 6371000 # Радиус на экваторе /m\n",
    "b = 6356863 # m\n",
    "a = 6378245 # m\n",
    "e =np.sqrt(1-b**2/a**2) "
   ]
  },
  {
   "cell_type": "code",
   "execution_count": 6,
   "metadata": {
    "id": "n3qZ9jRWw7S3",
    "pycharm": {
     "name": "#%%\n"
    }
   },
   "outputs": [],
   "source": [
    "#import numpy as np\n",
    "#import matplotlib.pyplot as plt\n",
    "from scipy.io import loadmat\n",
    "import pandas as pd"
   ]
  },
  {
   "cell_type": "code",
   "execution_count": 7,
   "metadata": {
    "id": "XT6OEcdxZKvn",
    "pycharm": {
     "name": "#%%\n"
    }
   },
   "outputs": [],
   "source": [
    "Tm = 15*4\n",
    "Tv = 10"
   ]
  },
  {
   "cell_type": "code",
   "source": [
    "mat = loadmat('nav.binB_03.mat')\n",
    "data_df = pd.DataFrame(mat['UAV'])\n",
    "data = data_df.to_numpy().T\n",
    "data = np.delete(data, 0, 1)\n",
    "data = data[405500:,:]\n",
    "Sensors = np.zeros((6,2),dtype = np.float64)\n",
    "n = data.shape[0]\n",
    "acc = data[:,9:12]\n",
    "gyro = data[:,12:15]\n",
    "\n",
    "GPSQuality = data[:,23]\n",
    "GPS = data[:,17:23]\n",
    "GPS[:,0:2] = GPS[:,0:2] #* np.pi / 180\n",
    "\n",
    "#StatusMS = data[:, 33]\n",
    "#MagnSens = data[:, 30:33] * 10\n",
    "#MagnSens[:,1:3] = -1 * MagnSens[:,1:3]\n",
    "\n",
    "#dt = 1 / 100\n"
   ],
   "metadata": {
    "id": "sK0ACacVRjBE",
    "pycharm": {
     "name": "#%%\n"
    }
   },
   "execution_count": 8,
   "outputs": [
    {
     "ename": "FileNotFoundError",
     "evalue": "[Errno 2] No such file or directory: 'nav.binM_03.mat'",
     "output_type": "error",
     "traceback": [
      "\u001B[1;31m---------------------------------------------------------------------------\u001B[0m",
      "\u001B[1;31mFileNotFoundError\u001B[0m                         Traceback (most recent call last)",
      "File \u001B[1;32mC:\\Anaconda\\envs\\lib\\site-packages\\scipy\\io\\matlab\\_mio.py:39\u001B[0m, in \u001B[0;36m_open_file\u001B[1;34m(file_like, appendmat, mode)\u001B[0m\n\u001B[0;32m     38\u001B[0m \u001B[38;5;28;01mtry\u001B[39;00m:\n\u001B[1;32m---> 39\u001B[0m     \u001B[38;5;28;01mreturn\u001B[39;00m \u001B[38;5;28;43mopen\u001B[39;49m\u001B[43m(\u001B[49m\u001B[43mfile_like\u001B[49m\u001B[43m,\u001B[49m\u001B[43m \u001B[49m\u001B[43mmode\u001B[49m\u001B[43m)\u001B[49m, \u001B[38;5;28;01mTrue\u001B[39;00m\n\u001B[0;32m     40\u001B[0m \u001B[38;5;28;01mexcept\u001B[39;00m \u001B[38;5;167;01mOSError\u001B[39;00m \u001B[38;5;28;01mas\u001B[39;00m e:\n\u001B[0;32m     41\u001B[0m     \u001B[38;5;66;03m# Probably \"not found\"\u001B[39;00m\n",
      "\u001B[1;31mFileNotFoundError\u001B[0m: [Errno 2] No such file or directory: 'nav.binM_03.mat'",
      "\nDuring handling of the above exception, another exception occurred:\n",
      "\u001B[1;31mFileNotFoundError\u001B[0m                         Traceback (most recent call last)",
      "Cell \u001B[1;32mIn [8], line 1\u001B[0m\n\u001B[1;32m----> 1\u001B[0m mat \u001B[38;5;241m=\u001B[39m \u001B[43mloadmat\u001B[49m\u001B[43m(\u001B[49m\u001B[38;5;124;43m'\u001B[39;49m\u001B[38;5;124;43mnav.binM_03.mat\u001B[39;49m\u001B[38;5;124;43m'\u001B[39;49m\u001B[43m)\u001B[49m\n\u001B[0;32m      2\u001B[0m data_df \u001B[38;5;241m=\u001B[39m pd\u001B[38;5;241m.\u001B[39mDataFrame(mat[\u001B[38;5;124m'\u001B[39m\u001B[38;5;124mUAV\u001B[39m\u001B[38;5;124m'\u001B[39m])\n\u001B[0;32m      3\u001B[0m data \u001B[38;5;241m=\u001B[39m data_df\u001B[38;5;241m.\u001B[39mto_numpy()\u001B[38;5;241m.\u001B[39mT\n",
      "File \u001B[1;32mC:\\Anaconda\\envs\\lib\\site-packages\\scipy\\io\\matlab\\_mio.py:224\u001B[0m, in \u001B[0;36mloadmat\u001B[1;34m(file_name, mdict, appendmat, **kwargs)\u001B[0m\n\u001B[0;32m     87\u001B[0m \u001B[38;5;124;03m\"\"\"\u001B[39;00m\n\u001B[0;32m     88\u001B[0m \u001B[38;5;124;03mLoad MATLAB file.\u001B[39;00m\n\u001B[0;32m     89\u001B[0m \n\u001B[1;32m   (...)\u001B[0m\n\u001B[0;32m    221\u001B[0m \u001B[38;5;124;03m    3.14159265+3.14159265j])\u001B[39;00m\n\u001B[0;32m    222\u001B[0m \u001B[38;5;124;03m\"\"\"\u001B[39;00m\n\u001B[0;32m    223\u001B[0m variable_names \u001B[38;5;241m=\u001B[39m kwargs\u001B[38;5;241m.\u001B[39mpop(\u001B[38;5;124m'\u001B[39m\u001B[38;5;124mvariable_names\u001B[39m\u001B[38;5;124m'\u001B[39m, \u001B[38;5;28;01mNone\u001B[39;00m)\n\u001B[1;32m--> 224\u001B[0m \u001B[38;5;28;01mwith\u001B[39;00m _open_file_context(file_name, appendmat) \u001B[38;5;28;01mas\u001B[39;00m f:\n\u001B[0;32m    225\u001B[0m     MR, _ \u001B[38;5;241m=\u001B[39m mat_reader_factory(f, \u001B[38;5;241m*\u001B[39m\u001B[38;5;241m*\u001B[39mkwargs)\n\u001B[0;32m    226\u001B[0m     matfile_dict \u001B[38;5;241m=\u001B[39m MR\u001B[38;5;241m.\u001B[39mget_variables(variable_names)\n",
      "File \u001B[1;32mC:\\Anaconda\\envs\\lib\\contextlib.py:135\u001B[0m, in \u001B[0;36m_GeneratorContextManager.__enter__\u001B[1;34m(self)\u001B[0m\n\u001B[0;32m    133\u001B[0m \u001B[38;5;28;01mdel\u001B[39;00m \u001B[38;5;28mself\u001B[39m\u001B[38;5;241m.\u001B[39margs, \u001B[38;5;28mself\u001B[39m\u001B[38;5;241m.\u001B[39mkwds, \u001B[38;5;28mself\u001B[39m\u001B[38;5;241m.\u001B[39mfunc\n\u001B[0;32m    134\u001B[0m \u001B[38;5;28;01mtry\u001B[39;00m:\n\u001B[1;32m--> 135\u001B[0m     \u001B[38;5;28;01mreturn\u001B[39;00m \u001B[38;5;28;43mnext\u001B[39;49m\u001B[43m(\u001B[49m\u001B[38;5;28;43mself\u001B[39;49m\u001B[38;5;241;43m.\u001B[39;49m\u001B[43mgen\u001B[49m\u001B[43m)\u001B[49m\n\u001B[0;32m    136\u001B[0m \u001B[38;5;28;01mexcept\u001B[39;00m \u001B[38;5;167;01mStopIteration\u001B[39;00m:\n\u001B[0;32m    137\u001B[0m     \u001B[38;5;28;01mraise\u001B[39;00m \u001B[38;5;167;01mRuntimeError\u001B[39;00m(\u001B[38;5;124m\"\u001B[39m\u001B[38;5;124mgenerator didn\u001B[39m\u001B[38;5;124m'\u001B[39m\u001B[38;5;124mt yield\u001B[39m\u001B[38;5;124m\"\u001B[39m) \u001B[38;5;28;01mfrom\u001B[39;00m \u001B[38;5;28mNone\u001B[39m\n",
      "File \u001B[1;32mC:\\Anaconda\\envs\\lib\\site-packages\\scipy\\io\\matlab\\_mio.py:17\u001B[0m, in \u001B[0;36m_open_file_context\u001B[1;34m(file_like, appendmat, mode)\u001B[0m\n\u001B[0;32m     15\u001B[0m \u001B[38;5;129m@contextmanager\u001B[39m\n\u001B[0;32m     16\u001B[0m \u001B[38;5;28;01mdef\u001B[39;00m \u001B[38;5;21m_open_file_context\u001B[39m(file_like, appendmat, mode\u001B[38;5;241m=\u001B[39m\u001B[38;5;124m'\u001B[39m\u001B[38;5;124mrb\u001B[39m\u001B[38;5;124m'\u001B[39m):\n\u001B[1;32m---> 17\u001B[0m     f, opened \u001B[38;5;241m=\u001B[39m \u001B[43m_open_file\u001B[49m\u001B[43m(\u001B[49m\u001B[43mfile_like\u001B[49m\u001B[43m,\u001B[49m\u001B[43m \u001B[49m\u001B[43mappendmat\u001B[49m\u001B[43m,\u001B[49m\u001B[43m \u001B[49m\u001B[43mmode\u001B[49m\u001B[43m)\u001B[49m\n\u001B[0;32m     18\u001B[0m     \u001B[38;5;28;01mtry\u001B[39;00m:\n\u001B[0;32m     19\u001B[0m         \u001B[38;5;28;01myield\u001B[39;00m f\n",
      "File \u001B[1;32mC:\\Anaconda\\envs\\lib\\site-packages\\scipy\\io\\matlab\\_mio.py:45\u001B[0m, in \u001B[0;36m_open_file\u001B[1;34m(file_like, appendmat, mode)\u001B[0m\n\u001B[0;32m     43\u001B[0m     \u001B[38;5;28;01mif\u001B[39;00m appendmat \u001B[38;5;129;01mand\u001B[39;00m \u001B[38;5;129;01mnot\u001B[39;00m file_like\u001B[38;5;241m.\u001B[39mendswith(\u001B[38;5;124m'\u001B[39m\u001B[38;5;124m.mat\u001B[39m\u001B[38;5;124m'\u001B[39m):\n\u001B[0;32m     44\u001B[0m         file_like \u001B[38;5;241m+\u001B[39m\u001B[38;5;241m=\u001B[39m \u001B[38;5;124m'\u001B[39m\u001B[38;5;124m.mat\u001B[39m\u001B[38;5;124m'\u001B[39m\n\u001B[1;32m---> 45\u001B[0m     \u001B[38;5;28;01mreturn\u001B[39;00m \u001B[38;5;28;43mopen\u001B[39;49m\u001B[43m(\u001B[49m\u001B[43mfile_like\u001B[49m\u001B[43m,\u001B[49m\u001B[43m \u001B[49m\u001B[43mmode\u001B[49m\u001B[43m)\u001B[49m, \u001B[38;5;28;01mTrue\u001B[39;00m\n\u001B[0;32m     46\u001B[0m \u001B[38;5;28;01melse\u001B[39;00m:\n\u001B[0;32m     47\u001B[0m     \u001B[38;5;28;01mraise\u001B[39;00m \u001B[38;5;167;01mOSError\u001B[39;00m(\n\u001B[0;32m     48\u001B[0m         \u001B[38;5;124m'\u001B[39m\u001B[38;5;124mReader needs file name or open file-like object\u001B[39m\u001B[38;5;124m'\u001B[39m\n\u001B[0;32m     49\u001B[0m     ) \u001B[38;5;28;01mfrom\u001B[39;00m \u001B[38;5;21;01me\u001B[39;00m\n",
      "\u001B[1;31mFileNotFoundError\u001B[0m: [Errno 2] No such file or directory: 'nav.binM_03.mat'"
     ]
    }
   ]
  },
  {
   "cell_type": "code",
   "execution_count": null,
   "metadata": {
    "colab": {
     "base_uri": "https://localhost:8080/"
    },
    "id": "NpE9_4uf3MSS",
    "outputId": "8406ae54-20a8-45ed-8f3a-e36deb5b71d6",
    "pycharm": {
     "name": "#%%\n"
    }
   },
   "outputs": [],
   "source": [
    "# Чтение файла\n",
    "def find_znach(buf_str, flag): \n",
    "    if buf_str!='':\n",
    "        #разбиваем строку\n",
    "        split_str = buf_str.split('  ')\n",
    "\n",
    "        time = split_str[0]\n",
    "\n",
    "        #три акселерометра\n",
    "        accel_1= split_str[9]\n",
    "        accel_2= split_str[10]\n",
    "        accel_3= split_str[11]\n",
    "\n",
    "        #гироскопы\n",
    "        sav_1 = split_str[12]\n",
    "        sav_2 = split_str[13]\n",
    "        sav_3 = split_str[14]\n",
    "        \n",
    "        GPS_lat = split_str[20]\n",
    "        GPS_lon =split_str[21]\n",
    "        p_fromFile = split_str[1]  #Тангаж\n",
    "        r_fromFile = split_str[2]  #Крен\n",
    "        h_fromFile = split_str[3] #Курс\n",
    "        Ve = split_str[15]\n",
    "        Vn = split_str[16]\n",
    "\n",
    "        GPS_Speed = split_str[23]\n",
    "        GPS_Heading = split_str[24]\n",
    "\n",
    "\n",
    "        flag=True\n",
    "        return [time, accel_1, accel_2, accel_3, sav_1, sav_2, sav_3, GPS_lat, GPS_lon, p_fromFile, r_fromFile, h_fromFile, Ve, Vn, GPS_Speed, GPS_Heading, flag]\n",
    "\n",
    "    else:\n",
    "        flag=False\n",
    "        return ['' for i in range(9)]+[flag]\n",
    "\n",
    "#f=open('/content/drive/MyDrive/Alg/101003-0757Saratov.txt', 'r') \n",
    "\n",
    "phi = []\n",
    "lmbda=[]\n",
    "\n",
    "phi_GPS = []\n",
    "lmbda_GPS=[]\n",
    "\n",
    "gamm=[]\n",
    "thett=[]\n",
    "kurs_ist=[]\n",
    "\n",
    "a_1 = []\n",
    "a_2 = []\n",
    "a_3 = []\n",
    "\n",
    "dus_1 = []\n",
    "dus_2 = []\n",
    "dus_3 = []\n",
    "\n",
    "time_ar = []\n",
    "p_fromFile = []\n",
    "r_fromFile = []\n",
    "h_fromFile = []\n",
    "\n",
    "Ve_GPS = []\n",
    "Vn_GPS = []\n",
    "\n",
    "ft = 0.01\n",
    "flag_EOF = True #устанавливаем флаг в истину, т.к. мы только что открыли файл и находимся в его начале\n",
    "x = 0\n",
    "it = 0\n",
    "tbuf = 0\n",
    "cl = 0\n",
    "j = 0\n",
    "time_GPS = []\n",
    "\n",
    "#flag_EOF = False\n",
    "#for i in range(8): #36 сек\n",
    "  #buf_str = f.readline()\n",
    "\n",
    "#j = 0\n",
    "#(flag_EOF) and \n",
    "while (cl != Tm*60/0.01):\n",
    "    #buf_str=f.readline() #читаем строку из файла, чтобы потом определить значения градуса, минут и секунд\n",
    "    #print(buf_str)\n",
    "    #t, accel_1, accel_2, accel_3, sav_1, sav_2, sav_3, GPS_lat, GPS_lon, p_fromFile_str, r_fromFile_str, h_fromFile_str, Ve, Vn, GPS_Speed, GPS_Heading, flag_EOF = find_znach(buf_str,flag_EOF)\n",
    "\n",
    "    a_1.append(acc[cl, 2]/ft)\n",
    "    a_2.append(acc[cl, 0]/ft)\n",
    "    a_3.append(acc[cl, 1]/ft)\n",
    "    dus_1.append(gyro[cl, 2]/ft)#*deg2rad)\n",
    "    dus_2.append(gyro[cl, 0]/ft)#*deg2rad)\n",
    "    dus_3.append(-gyro[cl, 1]/ft)#*deg2rad)\n",
    "\n",
    "    #if flag_EOF:\n",
    "    phi_GPS.append(GPS[cl, 0])\n",
    "    lmbda_GPS.append(GPS[cl, 1])\n",
    "\n",
    " #   p_fromFile.append(float(p_fromFile_str))  #Тангаж\n",
    " #   r_fromFile.append(float(r_fromFile_str))  #Крен\n",
    " #   h_fromFile.append(float(h_fromFile_str)) #Курс\n",
    "    time_GPS.append(ft*j/60)\n",
    "      \n",
    " #   Ve_GPS.append(float(Ve))\n",
    " ##   Vn_GPS.append(float(Vn))\n",
    "      #Ve_GPS.append(float(GPS_Speed)*np.cos(float(GPS_Heading)*deg2rad))\n",
    "      #Vn_GPS.append(float(GPS_Speed)*np.sin(float(GPS_Heading)*deg2rad))\n",
    "\n",
    "      #j = j + 1\n",
    "    cl = cl + 1\n",
    "#f.close() \n",
    "print(cl)"
   ]
  },
  {
   "cell_type": "code",
   "source": [
    "plt.plot(a_1)\n",
    "plt.plot(a_1)\n",
    "plt.plot(a_1)\n",
    "plt.show()"
   ],
   "metadata": {
    "id": "TUJ6ZT2E2ilD",
    "pycharm": {
     "name": "#%%\n"
    }
   },
   "execution_count": null,
   "outputs": []
  },
  {
   "cell_type": "code",
   "execution_count": null,
   "metadata": {
    "id": "4p2s-pqpY_Nj",
    "pycharm": {
     "name": "#%%\n"
    }
   },
   "outputs": [],
   "source": [
    "def quat2(H, gamma, theta):\n",
    "  q0 = np.cos(H/2)*np.cos(theta/2)*np.cos(gamma/2)-np.sin(H/2)*np.sin(theta/2)*np.sin(gamma/2) \n",
    "  q1 = np.cos(H/2)*np.cos(theta/2)*np.sin(gamma/2)+np.sin(H/2)*np.sin(theta/2)*np.cos(gamma/2) #+\n",
    "  q2 = np.sin(H/2)*np.cos(theta/2)*np.cos(gamma/2)+np.cos(H/2)*np.sin(theta/2)*np.sin(gamma/2) #-\n",
    "  q3 = np.cos(H/2)*np.sin(theta/2)*np.cos(gamma/2)-np.sin(H/2)*np.cos(theta/2)*np.sin(gamma/2) #-\n",
    "  Q = np.array([q0, q1, q2, q3])\n",
    "  return Q"
   ]
  },
  {
   "cell_type": "code",
   "execution_count": null,
   "metadata": {
    "id": "nZIn0BW9680B",
    "pycharm": {
     "name": "#%%\n"
    }
   },
   "outputs": [],
   "source": [
    "def qProd(a:np.array, b:np.array):   # Произведение кватернионов\n",
    "  ab = np.array([0.0, 0.0, 0.0, 0.0])\n",
    "  ab[0] = a[0]*b[0]-a[1]*b[1]-a[2]*b[2]-a[3]*b[3]\n",
    "  ab[1] = a[0]*b[1]+a[1]*b[0]+a[2]*b[3]-a[3]*b[2]\n",
    "  ab[2] = a[0]*b[2]-a[1]*b[3]+a[2]*b[0]+a[3]*b[1]\n",
    "  ab[3] = a[0]*b[3]+a[1]*b[2]-a[2]*b[1]+a[3]*b[0]                     \n",
    "  return ab"
   ]
  },
  {
   "cell_type": "code",
   "execution_count": null,
   "metadata": {
    "id": "n82q0AFF94Ee",
    "pycharm": {
     "name": "#%%\n"
    }
   },
   "outputs": [],
   "source": [
    "def normalization(a:np.array):  # Нормализация кватерниона\n",
    "  ab = np.array([0.0, 0.0, 0.0, 0.0])\n",
    "  norm = np.sqrt(a[0]**2+a[1]**2+a[2]**2+a[3]**2)\n",
    "  ab[0] = a[0]/norm\n",
    "  ab[1] = a[1]/norm\n",
    "  ab[2] = a[2]/norm\n",
    "  ab[3] = a[3]/norm\n",
    "  return ab"
   ]
  },
  {
   "cell_type": "code",
   "execution_count": null,
   "metadata": {
    "id": "hqEzAOXIo3G-",
    "pycharm": {
     "name": "#%%\n"
    }
   },
   "outputs": [],
   "source": [
    "def conjQuat(a:np.array):\n",
    "  a[0] = a[0]\n",
    "  a[1] = -a[1]\n",
    "  a[2] = -a[2]\n",
    "  a[3] = -a[3]\n",
    "  return a"
   ]
  },
  {
   "cell_type": "code",
   "execution_count": null,
   "metadata": {
    "id": "2Ro4IgTHoO7y",
    "pycharm": {
     "name": "#%%\n"
    }
   },
   "outputs": [],
   "source": [
    "def quat(H, gamma, theta):\n",
    "  q0 = np.cos(H/2)*np.cos(theta/2)*np.cos(gamma/2)+np.sin(H/2)*np.sin(theta/2)*np.sin(gamma/2) \n",
    "  q1 = np.cos(H/2)*np.sin(theta/2)*np.cos(gamma/2)+np.sin(H/2)*np.cos(theta/2)*np.sin(gamma/2) #+\n",
    "  q2 = np.cos(H/2)*np.cos(theta/2)*np.sin(gamma/2)-np.sin(H/2)*np.sin(theta/2)*np.cos(gamma/2) #-\n",
    "  q3 = np.cos(H/2)*np.sin(theta/2)*np.sin(gamma/2)-np.sin(H/2)*np.cos(theta/2)*np.cos(gamma/2) #-\n",
    "  Q = np.array([q0, q1, q2, q3])\n",
    "  return Q"
   ]
  },
  {
   "cell_type": "code",
   "execution_count": null,
   "metadata": {
    "id": "XvZtEqoQmmeC",
    "pycharm": {
     "name": "#%%\n"
    }
   },
   "outputs": [],
   "source": [
    "def CBLL2(H, gamma, theta):\n",
    "  C_bLL = np.array([[np.cos(gamma)*np.cos(H)+np.sin(gamma)*np.sin(theta)*np.sin(H), np.cos(theta)*np.sin(H), np.sin(gamma)*np.cos(H)-np.cos(gamma)*np.sin(H)*np.sin(theta)],\n",
    "  [-np.cos(gamma)*np.sin(H)+np.sin(gamma)*np.sin(theta)*np.cos(H), np.cos(theta)*np.cos(H), -(np.sin(gamma)*np.sin(H)+np.cos(gamma)*np.sin(theta)*np.cos(H))],\n",
    "  [-np.sin(gamma)*np.cos(theta), np.sin(theta), np.cos(gamma)*np.cos(theta)]])\n",
    "  return C_bLL"
   ]
  },
  {
   "cell_type": "code",
   "execution_count": null,
   "metadata": {
    "id": "StOQjJBYM7DF",
    "pycharm": {
     "name": "#%%\n"
    }
   },
   "outputs": [],
   "source": [
    "def CBLL(H, gamma, theta):\n",
    "    C_bLL = np.array([[np.cos(gamma)*np.cos(H)+np.sin(gamma)*np.sin(theta)*np.sin(H), np.sin(theta)*np.sin(H), np.sin(gamma)*np.cos(H)-np.cos(gamma)*np.sin(H)*np.sin(theta)],\n",
    "    [-np.cos(gamma)*np.sin(H)+np.sin(gamma)*np.sin(theta)*np.cos(H), np.cos(theta)*np.cos(H), -(np.sin(gamma)*np.sin(H)+np.cos(gamma)*np.sin(theta)*np.cos(H))],\n",
    "    [-np.sin(gamma)*np.cos(theta), np.sin(theta), np.cos(gamma)*np.cos(theta)]])\n",
    "    return C_bLL"
   ]
  },
  {
   "cell_type": "code",
   "execution_count": null,
   "metadata": {
    "id": "A94xKXE0lHoF",
    "pycharm": {
     "name": "#%%\n"
    }
   },
   "outputs": [],
   "source": [
    "def quat2DCM(Q2:np.array):\n",
    "  c11 = Q2[0]**2 + Q2[1]**2 - Q2[2]**2 - Q2[3]**2\n",
    "  c12 = 2*(Q2[1]*Q2[2] - Q2[0]*Q2[3])\n",
    "  c13 = 2*(Q2[1]*Q2[3] + Q2[0]*Q2[2])\n",
    "  c21 = 2*(Q2[1]*Q2[2] + Q2[0]*Q2[3])\n",
    "  c22 = Q2[0]**2 - Q2[1]**2 + Q2[2]**2 - Q2[3]**2\n",
    "  c23 = 2*(Q2[2]*Q2[3] - Q2[0]*Q2[1])\n",
    "  c31 = 2*(Q2[1]*Q2[3] - Q2[0]*Q2[2])\n",
    "  c32 = 2*(Q2[2]*Q2[3] + Q2[0]*Q2[1])\n",
    "  c33 = Q2[0]**2 - Q2[1]**2 - Q2[2]**2 + Q2[3]**2\n",
    "  C_bLL = np.array([[c11, c12, c13], [c21, c22, c23], [c31, c32, c33]])\n",
    "  return C_bLL"
   ]
  },
  {
   "cell_type": "code",
   "execution_count": null,
   "metadata": {
    "id": "Id0e5QKPCwoG",
    "pycharm": {
     "name": "#%%\n"
    }
   },
   "outputs": [],
   "source": [
    "def quat2DCM2(Q2:np.array):\n",
    "  c11 = 2*(Q2[0]*Q2[0]+Q2[1]*Q2[1])-1\n",
    "  c12 = 2*(Q2[1]*Q2[2]-Q2[0]*Q2[3])\n",
    "  c13 = 2*(Q2[1]*Q2[3]+Q2[0]*Q2[2])\n",
    "  c21 = 2*(Q2[1]*Q2[2]+Q2[0]*Q2[3]) # Без -\n",
    "  c22 = 2*(Q2[0]*Q2[0]+Q2[2]*Q2[2])-1\n",
    "  c23 = 2*(Q2[2]*Q2[3]-Q2[0]*Q2[1]) # Без -\n",
    "  c31 = 2*(Q2[1]*Q2[3]-Q2[0]*Q2[2])\n",
    "  c32 = 2*(Q2[2]*Q2[3]+Q2[0]*Q2[1])\n",
    "  c33 = 2*(Q2[0]*Q2[0]+Q2[3]*Q2[3])-1\n",
    "  C_bLL = np.array([[c11, c12, c13], [c21, c22, c23], [c31, c32, c33]])\n",
    "  return C_bLL"
   ]
  },
  {
   "cell_type": "code",
   "execution_count": null,
   "metadata": {
    "id": "9oY9mE05KSai",
    "pycharm": {
     "name": "#%%\n"
    }
   },
   "outputs": [],
   "source": [
    "def EulerFromDCM(C_bLL:np.array):\n",
    "\n",
    "  H_d = np.arctan(C_bLL[0, 1]/C_bLL[1, 1])\n",
    "  if H_d < 0:\n",
    "    H_d = H_d + 2*np.pi\n",
    "\n",
    "  g_d = -np.arctan(C_bLL[2, 0]/C_bLL[2, 2])\n",
    "  c0 = np.sqrt(C_bLL[2, 0]**2 + C_bLL[2, 2]**2)\n",
    "  c0 = np.sqrt(C_bLL[0, 1]**2 + C_bLL[1, 1]**2)\n",
    "  t_d = np.arctan(C_bLL[2, 1]/c0)\n",
    "\n",
    "  return [H_d, g_d, t_d]"
   ]
  },
  {
   "cell_type": "code",
   "execution_count": null,
   "metadata": {
    "id": "bPKLHJPVWsN0",
    "pycharm": {
     "name": "#%%\n"
    }
   },
   "outputs": [],
   "source": [
    "def align3(time, a_b:np.array, omb:np.array, a_bx, a_by, a_bz, om_bx, om_by, om_bz):\n",
    "\n",
    "  om_bx_s = 1\n",
    "  om_by_s = 1\n",
    "  om_bz_s = 1\n",
    "  a_bx_s =  1\n",
    "  a_by_s =  1\n",
    "  a_bz_s =  1\n",
    "\n",
    "  if time == 0:\n",
    "    time = 1\n",
    "  a_bx = a_b[0] + a_bx\n",
    "  a_by = a_b[1] + a_by\n",
    "  a_bz = a_b[2] + a_bz\n",
    "  \n",
    "  om_bx = omb[0] + om_bx\n",
    "  om_by = omb[1] + om_by\n",
    "  om_bz = omb[2] + om_bz\n",
    "  #time = time + 1\n",
    "  #if time >= 1:\n",
    "#  a_bx_s =  a_bx/time\n",
    "#  a_by_s =  a_by/time\n",
    "#  a_bz_s =  a_bz/time\n",
    "  \n",
    "#  om_bx_s = om_bx/time\n",
    "#  om_by_s = om_by/time\n",
    "#  om_bz_s = om_bz/time\n",
    "\n",
    "\n",
    "#  H = np.arctan((a_bx_s*om_bz_s - a_bz_s*om_bx_s)/(g*om_by_s - a_by_s*U*np.sin(fi)))\n",
    "#  gamma = -np.arctan((a_bx_s/a_bz_s))\n",
    "#  theta = np.arctan((a_by_s/np.sqrt(a_bx_s**2+a_bz_s**2)))\n",
    "\n",
    "  return [H, gamma, theta, a_bx, a_by, a_bz, om_bx, om_by, om_bz]"
   ]
  },
  {
   "cell_type": "code",
   "execution_count": null,
   "metadata": {
    "id": "O3FV-SsTeA3M",
    "pycharm": {
     "name": "#%%\n"
    }
   },
   "outputs": [],
   "source": [
    "def DCMprod(C_bLL:np.array, acs_b:np.array):\n",
    "  acs_LL = [0, 0, 0]\n",
    "  acs_LL[0] = C_bLL[0, 0]*acs_b[0] + C_bLL[0, 1]*acs_b[1] + C_bLL[0, 2]*acs_b[2]\n",
    "  acs_LL[1] = C_bLL[1, 0]*acs_b[0] + C_bLL[1, 1]*acs_b[1] + C_bLL[1, 2]*acs_b[2]\n",
    "  acs_LL[2] = C_bLL[2, 0]*acs_b[0] + C_bLL[2, 1]*acs_b[1] + C_bLL[2, 2]*acs_b[2]\n",
    "  return acs_LL"
   ]
  },
  {
   "cell_type": "code",
   "execution_count": null,
   "metadata": {
    "id": "SPjsbnN7IzvE",
    "pycharm": {
     "name": "#%%\n"
    }
   },
   "outputs": [],
   "source": [
    "# ENUp\n",
    "H = 0 # 30*deg2rad # курс\n",
    "gamma = 0 # 10*deg2rad # крен\n",
    "theta = 0 # 20*deg2rad # тангаж\n",
    "\n",
    "# Начальная матрица ориентации\n",
    "C_bLL = CBLL(H, gamma, theta)\n",
    "# Начальный кватернион ориентации\n",
    "#Q = quat(H, gamma, theta)"
   ]
  },
  {
   "cell_type": "code",
   "execution_count": null,
   "metadata": {
    "id": "Cu4AiTBjdmSv",
    "pycharm": {
     "name": "#%%\n"
    }
   },
   "outputs": [],
   "source": [
    "# Перепроектирование векторов в связанной СК\n",
    "g_Nav = np.array([0, 0, g])\n",
    "C_LLb = C_bLL.T\n",
    "#C_llb = C_LLb\n",
    "C_LLb_Mod = C_LLb\n",
    "gb = np.dot(C_LLb_Mod,g_Nav)\n",
    "#print(gb)"
   ]
  },
  {
   "cell_type": "code",
   "execution_count": null,
   "metadata": {
    "id": "V6lflfDsLcP2",
    "pycharm": {
     "name": "#%%\n"
    }
   },
   "outputs": [],
   "source": [
    "# Инициализация массивов и н.у.\n",
    "Ve = 0\n",
    "Vn=0\n",
    "Vup = 0\n",
    "phi.append(0)\n",
    "lmbda.append(0)\n",
    "\n",
    "phi[0] = phi_GPS[0]*deg2rad\n",
    "lmbda[0] = lmbda_GPS[0]*deg2rad\n",
    "\n",
    "fi = phi[0]#*deg2rad\n",
    "lm = lmbda[0]#*deg2rad\n",
    "fi0 = fi\n",
    "lm0 = lm\n",
    "Upr = np.array([0,U*np.cos(fi),U*np.sin(fi)]) # E - N - Up\n",
    "\n",
    "Ve_arr = []\n",
    "Ve_arr.append(0)\n",
    "Vn_arr = []\n",
    "Vn_arr.append(0)\n",
    "H_arr = []\n",
    "H_arr.append(0) #h_fromFile[0])\n",
    "gamma_arr=[]\n",
    "gamma_arr.append(0) #r_fromFile[0])\n",
    "theta_arr=[]\n",
    "theta_arr.append(0) #p_fromFile[0])\n",
    "phi_arr = []\n",
    "lmd_arr = []\n",
    "om_LL = Upr \n",
    "\n",
    "g_Nav = np.array([0, 0, g]).reshape(3, 1)\n",
    "#g_Nav[0] = 0.00001\n",
    "g_Nav[1] = g_Nav[0]\n",
    "\n",
    "acs_LL = []\n",
    "time = []\n",
    "time.append(0)\n",
    "\n",
    "#print(h_fromFile[0], r_fromFile[0], p_fromFile[0])\n",
    "\n",
    "\n",
    "Tsh=84.4*60\n",
    "#Период собственных колебаний ошибок БИНС\n",
    " \n",
    "Ts=400\n",
    "omegas=2*np.pi/Ts\n",
    "omegash=2*np.pi/Tsh\n",
    "#коррекция позиционная\n",
    "hi=Tsh/Ts\n",
    "k1=1.75*omegash*hi\n",
    "k2=2.15*hi**2-1\n",
    "k3=hi**3*omegash-1.75*hi*omegash"
   ]
  },
  {
   "cell_type": "code",
   "execution_count": null,
   "metadata": {
    "id": "iiqqtvEs8AQU",
    "pycharm": {
     "name": "#%%\n"
    }
   },
   "outputs": [],
   "source": [
    "ombx_arr = []\n",
    "omby_arr = []\n",
    "ombz_arr = []\n",
    "\n",
    "acsbx_arr = []\n",
    "acsby_arr = []\n",
    "\n",
    "acsLx_arr = []\n",
    "acsLy_arr = []\n",
    "\n",
    "acsLke_arr = []\n",
    "acsLkn_arr = []"
   ]
  },
  {
   "cell_type": "code",
   "execution_count": null,
   "metadata": {
    "id": "eUz9dFmiVonQ",
    "pycharm": {
     "name": "#%%\n"
    }
   },
   "outputs": [],
   "source": [
    "Upr = np.array([0,U*np.cos(fi),U*np.sin(fi)]).reshape(3, 1)\n",
    "a_b = np.dot(C_LLb_Mod,g_Nav)\n",
    "omb = np.dot(C_LLb_Mod,Upr)\n",
    "omb = []\n",
    "a_b = []\n",
    "a_bx = 0\n",
    "a_by = 0\n",
    "a_bz = 0\n",
    "om_bx = 0\n",
    "om_by = 0\n",
    "om_bz = 0\n",
    "\n",
    "T = Tm * 60\n",
    "f = 0.01 # 100 Гц частота\n",
    "delta = 10**(-6)\n",
    "p = 0\n",
    "H_check = []\n",
    "t_check = []\n",
    "Q2 = np.array([1, 0, 0, 0])\n",
    "C_bLL_v = C_bLL"
   ]
  },
  {
   "cell_type": "markdown",
   "metadata": {
    "id": "cwhvlQW3LNF-",
    "pycharm": {
     "name": "#%% md\n"
    }
   },
   "source": [
    "### Выставка"
   ]
  },
  {
   "cell_type": "code",
   "execution_count": null,
   "metadata": {
    "id": "KFGC9WRGLBwV",
    "colab": {
     "base_uri": "https://localhost:8080/"
    },
    "outputId": "9c0a1809-985d-45fc-b122-ba473e8da08f",
    "pycharm": {
     "name": "#%%\n"
    }
   },
   "outputs": [],
   "source": [
    "for i in range(int(Tv*60/f)): \n",
    "  t = i\n",
    "\n",
    "  # Выставка\n",
    "  #if i <= 11*60/f:  \n",
    "\n",
    "  time.append(f*i/60)\n",
    "    \n",
    "  # Считивание элементов из массива файла\n",
    "  omb = [dus_1[i], dus_2[i], dus_3[i]]\n",
    "  a_b = [a_1[i], a_2[i], a_3[i]]\n",
    "\n",
    "  H_d, g_d, t_d, a_bx, a_by, a_bz, om_bx, om_by, om_bz = align3(i, a_b, omb, a_bx, a_by, a_bz, om_bx, om_by, om_bz)\n",
    "  #H_d = 90*deg2rad\n",
    "  #t_d = -1.2*deg2rad\n",
    "  #g_d = 1.2*deg2rad\n",
    "    #print(Q2v)\n",
    "    #print(q0, qvec)\n",
    "  #Q2v = [q0, -qvec[0], -qvec[1], -qvec[2]]\n",
    "    #Q2v = quat(h_fromFile[i], r_fromFile[i], p_fromFile[i])\n",
    "    #Q2v = normalization(Q2)\n",
    "  \n",
    "    #print(C_bLL)\n",
    "  H_d, g_d, t_d = EulerFromDCM(C_bLL_v)\n",
    "    #print(H_d*rad2deg, g_d*rad2deg, t_d*rad2deg)\n",
    "  if time[i] == 0:\n",
    "    time[i] = time[i] + f\n",
    "    i = 1\n",
    "  a_bx_s =  a_bx/i\n",
    "  a_by_s =  a_by/i\n",
    "  a_bz_s =  a_bz/i\n",
    "  \n",
    "  om_bx_s = om_bx/i\n",
    "  om_by_s = om_by/i\n",
    "  om_bz_s = om_bz/i\n",
    "\n",
    "  H_d = np.arctan((a_bx_s*om_bz_s - a_bz_s*om_bx_s)/(g*om_by_s - a_by_s*U*np.sin(fi)))\n",
    "  g_d = -np.arctan((a_bx_s/a_bz_s))\n",
    "  t_d = np.arctan((a_by_s/np.sqrt(a_bx_s**2+a_bz_s**2)))\n",
    "  H_arr.append((H_d)*rad2deg)\n",
    "  gamma_arr.append(g_d*rad2deg)\n",
    "  theta_arr.append(t_d*rad2deg)\n",
    "  #if i > 0:\n",
    "  H_d = 333.26*deg2rad\n",
    "  g_d = -0.87*deg2rad\n",
    "  t_d = 6.02*deg2rad\n",
    "  Q2v = quat(H_d, g_d, t_d)\n",
    "  q0, qvec = angle2quat(H_d,g_d,t_d)\n",
    "  C_bLL_v = quat2DCM(Q2v)\n",
    "\n",
    "  phi_arr.append(fi*rad2deg)\n",
    "  lmd_arr.append(lm*rad2deg)\n",
    "  Ve_arr.append(0) #Ve_GPS[i])\n",
    "  Vn_arr.append(0) #Vn_GPS[i])\n",
    "\n",
    "  ombx_arr.append(dus_1[i])#*rad2deg)\n",
    "  omby_arr.append(dus_2[i])#*rad2deg)\n",
    "  ombz_arr.append(dus_3[i])#*rad2deg)\n",
    "  acsbx_arr.append(a_1[i])\n",
    "  acsby_arr.append(a_2[i])\n",
    "  acsLx_arr.append(0)\n",
    "  acsLy_arr.append(0)\n",
    "\n",
    "  acsLkn_arr.append(0)\n",
    "  acsLke_arr.append(0)\n",
    "\n",
    "  \n",
    "Q2 = Q2v\n",
    "C_bLL = C_bLL_v\n",
    "print(H_d*rad2deg, g_d*rad2deg, t_d*rad2deg)"
   ]
  },
  {
   "cell_type": "markdown",
   "metadata": {
    "id": "NdouEg0pLfAP",
    "pycharm": {
     "name": "#%% md\n"
    }
   },
   "source": [
    "## Навигационный алгоритм"
   ]
  },
  {
   "cell_type": "code",
   "execution_count": null,
   "metadata": {
    "colab": {
     "base_uri": "https://localhost:8080/"
    },
    "id": "TpXwM9CFLCIU",
    "outputId": "1c6b39a7-c91e-49f4-a68d-18fcc34c5176",
    "pycharm": {
     "name": "#%%\n"
    }
   },
   "outputs": [],
   "source": [
    "for i in range(int(Tv*60/f), int(T/f)): \n",
    "  #elif i > 11*60/f:\n",
    "\n",
    "  time.append(f*i/60)\n",
    "  # Параметры земли в текущей координате\n",
    "  Rl = Re/((1-e**2*np.sin(fi)*np.sin(fi))**(1/2)) #*4\n",
    "  Rphi = Re*(1-e**2)/((1-e**2*np.sin(fi)*np.sin(fi))**(3/2)) #*2\n",
    "\n",
    "  # Навигационный алгoритм\n",
    "  ombx_arr.append(dus_1[i])#*rad2deg)\n",
    "  omby_arr.append(dus_2[i])#*rad2deg)\n",
    "  ombz_arr.append(dus_3[i])#*rad2deg)\n",
    "  acsbx_arr.append(a_1[i])\n",
    "  acsby_arr.append(a_2[i])\n",
    "\n",
    "  # Измерения с ДУС ---------------------\n",
    "  om_b = np.array([dus_1[i], dus_2[i], dus_3[i]])\n",
    "  \n",
    "  # Расчет ориентации\n",
    "#-----------------\n",
    "  #dF = np.sqrt(dus_1[i]*dus_1[i]*f*f+dus_2[i]*dus_2[i]*f*f+dus_3[i]*dus_3[i]*f*f)\n",
    "  #r = 1/2-dF**2/42+dF**4/3840\n",
    "  #l0 = 1 - dF**2/8 + dF**4/384\n",
    "  #l1 = r * dus_1[i]*f\n",
    "  #l2 = r * dus_2[i]*f\n",
    "  #l3 = r * dus_3[i]*f\n",
    "  #dQ1 = [[l0, -l1, -l2, -l3], [l1, l0, l3, -l2], [l2, -l3, l0, l1], [l3, l2, -l1, l0]]\n",
    "  #Q1 = np.dot(dQ1, Q2)\n",
    "  #dQ1 = np.array([np.cos(dF/2), dus_1[i]*f/dF*np.sin(dF/2), dus_2[i]*f/dF*np.sin(dF/2), dus_3[i]*f/dF*np.sin(dF/2)])\n",
    "\n",
    "  dQ1 = np.array([1, 0.5*dus_1[i]*f, 0.5*dus_2[i]*f, 0.5*dus_3[i]*f], dtype=object) \n",
    "  Q1 = qProd(Q2, dQ1)\n",
    "\n",
    "\n",
    "  #dF2 = np.sqrt(om_LL[0]*om_LL[0]+om_LL[1]*om_LL[1]+om_LL[2]*om_LL[2])\n",
    "  #m0 = np.cos(dF2*f/2)\n",
    "  #m1 = -om_LL[0]*f/dF2*np.sin(dF2*f/2)\n",
    "  #m2 = -om_LL[1]*f/dF2*np.sin(dF2*f/2)\n",
    "  #m3 = -om_LL[2]*f/dF2*np.sin(dF2*f/2)\n",
    "  #dQ2 = [m0, m1, m2, m3]\n",
    "  #Q1f = [[Q1[0], -Q1[1], -Q1[2], -Q1[3]], [Q1[1], Q1[0], Q1[3], -Q1[2]], [Q1[2], -Q1[3], Q1[0], Q1[1]], [Q1[3], Q1[2], -Q1[1], Q1[0]]]\n",
    "  #Q2 = np.dot(Q1f, dQ2)\n",
    "  #dQ2 = np.array([np.cos(dF2/2), -om_LL[0]/dF2*np.sin(dF2*f/2), -om_LL[1]/dF2*np.sin(dF2*f/2), -om_LL[2]/dF2*np.sin(dF2*f/2)])\n",
    "\n",
    "  dQ2 = np.array([1, -0.5*om_LL[0]*f,  -0.5*om_LL[1]*f,  -0.5*om_LL[2]*f], dtype=object)  \n",
    "  Q2 = qProd(dQ2, Q1)\n",
    "\n",
    "  #Q2 = Q1\n",
    "#-----------------  \n",
    "  if np.abs(1 - np.sqrt(Q2[0]**2 + Q2[1]**2 + Q2[2]**2 + Q2[3]**2)) > delta:\n",
    "    Q2 = normalization(Q2)\n",
    "\n",
    "  C_bLL = quat2DCM(Q2)\n",
    "\n",
    "  H_d, g_d, t_d = EulerFromDCM(C_bLL) #_S\n",
    "    \n",
    "  if p == 0:\n",
    "    print(\"2   C_bLL \", C_bLL) #_S\n",
    "\n",
    "  H_arr.append(H_d*rad2deg)\n",
    "  gamma_arr.append(g_d*rad2deg)\n",
    "  theta_arr.append(t_d*rad2deg)\n",
    "    #Q2 = Q21\n",
    "    #-----------\n",
    "    # Измерения с акселерометров ----------------\n",
    "  acs_b = [a_1[i], a_2[i], a_3[i]]#)#.reshape(3,1) np.array(\n",
    "\n",
    "    # Поворот вектора ускорений\n",
    "  acs_LL = np.dot(C_bLL, acs_b) \n",
    "  #acs_LL = acs_b\n",
    "\n",
    "    #acs_LL = DCMprod(C_bLL, acs_b)\n",
    "  #if i % 10000 == 0:\n",
    "   # print(\"3  body\",acs_b)\n",
    "   # print(\"4  LL\", acs_LL)\n",
    "      \n",
    "  acsLx_arr.append(acs_LL[0])\n",
    "  acsLy_arr.append(acs_LL[1])\n",
    "\n",
    "    # Кориолисовы добавки\n",
    "  ae_k = acs_LL[0] - Vup*(Upr[1]+om_LL[1]) + Vn*(Upr[2]+om_LL[2]) # East channel\n",
    "  an_k = acs_LL[1] - Ve*(Upr[2]+om_LL[2]) + om_LL[0]*Vup # North channel\n",
    "     \n",
    "  acsLkn_arr.append(an_k)\n",
    "  acsLke_arr.append(ae_k)\n",
    "\n",
    "  if p == 50000:\n",
    "    print(ae_k)\n",
    "\n",
    "    # Интегрирование ускорений\n",
    "  Vn = Vn + an_k*f \n",
    "  Ve = Ve + ae_k*f \n",
    "\n",
    "    # Массив линейных скоростей\n",
    "  Vn_arr.append(Vn)\n",
    "  Ve_arr.append(Ve)\n",
    "        \n",
    "    # Расчет относительных угловых скоростей\n",
    "  om_LL[0] = -Vn/Rphi # omega E\n",
    "  om_LL[1] = Ve/Rl + Upr[1] # omega N  \n",
    "  om_LL[2] = Ve/Rl*np.tan(fi) + Upr[2] # omega Up\n",
    "  if p == 0:\n",
    "    print(\"om_LL \", om_LL)\n",
    "    # Интегрирование скоростей\n",
    "  fi = fi + Vn/Rphi*f\n",
    "  lm = lm + Ve/(Rl*np.cos(fi))*f\n",
    "\n",
    "    # Массив координат\n",
    "  phi_arr.append(fi*rad2deg)\n",
    "  lmd_arr.append(lm*rad2deg)  \n",
    "\n",
    "  Upr = np.array([0, U*np.cos(fi), U*np.sin(fi)], dtype=object)\n",
    "  p = p + 1"
   ]
  },
  {
   "cell_type": "markdown",
   "metadata": {
    "id": "GhzMB77bLkHM",
    "pycharm": {
     "name": "#%% md\n"
    }
   },
   "source": [
    "## Построение графиков"
   ]
  },
  {
   "cell_type": "code",
   "execution_count": null,
   "metadata": {
    "colab": {
     "base_uri": "https://localhost:8080/",
     "height": 1000
    },
    "id": "Yt-s9TKMHbDa",
    "outputId": "b67c8c44-6da1-4df2-8b77-39087ade6ad8",
    "pycharm": {
     "name": "#%%\n"
    }
   },
   "outputs": [],
   "source": [
    "# Графики\n",
    "#time_GPS.append(time_GPS[i-1])\n",
    "x_label = \"Время, мин\"\n",
    "\n",
    "fig1, (fig1_ax1,fig1_ax2) = pyplot.subplots(nrows=2, ncols=1, figsize=(15, 10))\n",
    "phi_arr.append(fi*rad2deg)\n",
    "lmd_arr.append(lm*rad2deg)\n",
    "# Широта\n",
    "fig1_ax1.plot(time, phi_arr,color='k')\n",
    "delta = 1 # Шаг для вывода графика по широте\n",
    "fig1_ax1.set_ylabel(\"Широта, $\\phi$ градус\")\n",
    "fig1_ax1.set_xlabel(x_label)\n",
    "fig1_ax1.grid(which='major', linewidth=2)\n",
    "fig1_ax1.grid(which='minor')\n",
    "phi_GPS.append(phi_GPS[i])\n",
    "fig1_ax1.plot(time, phi_GPS,color='b')\n",
    "delta = 1 # Шаг для вывода графика по широте\n",
    "fig1_ax1.set_ylabel(\"Широта, $\\phi$ градус\")\n",
    "fig1_ax1.set_xlabel(x_label)\n",
    "fig1_ax1.grid(which='major', linewidth=2)\n",
    "fig1_ax1.grid(which='minor')\n",
    "\n",
    "# Долгота\n",
    "fig1_ax2.plot(time,lmd_arr, color='k')\n",
    "fig1_ax2.set_ylabel(\"Долгота, $\\lambda$ градус\")\n",
    "fig1_ax2.set_xlabel(x_label)\n",
    "fig1_ax2.grid(which='major', linewidth=2)\n",
    "fig1_ax2.grid(which='minor')\n",
    "lmbda_GPS.append(lmbda_GPS[i])\n",
    "fig1_ax2.plot(time,lmbda_GPS, color='b')\n",
    "fig1_ax2.set_ylabel(\"Долгота, $\\lambda$ градус\")\n",
    "fig1_ax2.set_xlabel(x_label)\n",
    "fig1_ax2.grid(which='major', linewidth=2)\n",
    "fig1_ax2.grid(which='minor')\n",
    "\n",
    "x_label = \"Долгота, $\\lambda$ градус\"\n",
    "fig5, (fig5_ax1) = pyplot.subplots(nrows=1, ncols=1, figsize=(10, 10))\n",
    "  \n",
    "# Широта - долгота\n",
    "fig5_ax1.plot(lmbda_GPS, phi_GPS,color='b')\n",
    "delta = 1 # Шаг для вывода графика по широте\n",
    "fig5_ax1.set_ylabel(\"Широта, $\\phi$ градус\")\n",
    "fig5_ax1.set_xlabel(x_label)\n",
    "fig5_ax1.grid(which='major', linewidth=2)\n",
    "fig5_ax1.grid(which='minor')\n",
    "\n",
    "# Широта - долгота\n",
    "fig5_ax1.plot(lmd_arr, phi_arr,color='k')\n",
    "delta = 1 # Шаг для вывода графика по широте\n",
    "fig5_ax1.set_ylabel(\"Широта, $\\phi$ градус\")\n",
    "fig5_ax1.set_xlabel(x_label)\n",
    "fig5_ax1.grid(which='major', linewidth=2)\n",
    "fig5_ax1.grid(which='minor')\n",
    "\n",
    "x_label = \"Время, мин\"\n",
    "fig2, (fig2_ax1,fig2_ax2) = pyplot.subplots(nrows=2, ncols=1, figsize=(15, 10))\n",
    "\n",
    "# Северная скорость\n",
    "fig2_ax1.plot(time, Vn_arr, color = 'k')\n",
    "fig2_ax1.set_ylabel(\"$V_n$, м/с\")\n",
    "fig2_ax1.set_xlabel(x_label)\n",
    "fig2_ax1.grid(which='major', linewidth=2)\n",
    "fig2_ax1.grid(which='minor')\n",
    "#time_GPS.pop()\n",
    "#Vn_GPS.append(Vn_GPS[i])\n",
    "#fig2_ax1.plot(time, Vn_GPS, color = 'b')\n",
    "#fig2_ax1.set_ylabel(\"$V_n$, м/с\")\n",
    "#fig2_ax1.set_xlabel(x_label)\n",
    "#fig2_ax1.grid(which='major', linewidth=2)\n",
    "#fig2_ax1.grid(which='minor')\n",
    "\n",
    "# Восточная скорость\n",
    "fig2_ax2.plot(time,Ve_arr,color = 'k')\n",
    "fig2_ax2.set_ylabel(\"$V_e$, м/с\")\n",
    "fig2_ax2.set_xlabel(x_label)\n",
    "fig2_ax2.grid(which='major', linewidth=2)\n",
    "fig2_ax2.grid(which='minor')\n",
    "#Ve_GPS.append(Ve_GPS[i])\n",
    "#fig2_ax2.plot(time,Ve_GPS,color = 'b')\n",
    "#fig2_ax2.set_ylabel(\"$V_e$, м/с\")\n",
    "#fig2_ax2.set_xlabel(x_label)\n",
    "#fig2_ax2.grid(which='major', linewidth=2)\n",
    "#fig2_ax2.grid(which='minor')\n",
    "\n",
    "# Графики построения углов ориентации\n",
    "fig3, (fig3_ax1,fig3_ax2, fig3_ax3) = pyplot.subplots(nrows=3, ncols=1, figsize=(15, 10)) # , fig4_ax4\n",
    "    \n",
    "# Курс\n",
    "delta = 3\n",
    "fig3_ax1.plot(time, H_arr,color = 'k')\n",
    "fig3_ax1.set_ylabel(\"Курс $\\H$, градус\")\n",
    "fig3_ax1.set_xlabel(x_label)\n",
    "fig3_ax1.grid(which='major', linewidth=2)\n",
    "fig3_ax1.grid(which='minor')\n",
    "#fig3_ax1.plot(time_GPS, h_fromFile, color = 'b')\n",
    "#fig3_ax1.set_ylabel(\"Курс $\\H$, градус\")\n",
    "#fig3_ax1.set_xlabel(x_label)\n",
    "#fig3_ax1.grid(which='major', linewidth=2)\n",
    "#fig3_ax1.grid(which='minor')\n",
    "\n",
    "# Крен\n",
    "delta = 1\n",
    "fig3_ax2.plot(time, gamma_arr, color = 'k')\n",
    "fig3_ax2.set_ylabel(\"Крен $\\gamma$, градус\")\n",
    "fig3_ax2.set_xlabel(x_label)\n",
    "fig3_ax2.grid(which='major', linewidth=2)\n",
    "fig3_ax2.grid(which='minor')\n",
    "#fig3_ax2.plot(time_GPS, r_fromFile, color = 'b')\n",
    "#fig3_ax2.set_ylabel(\"Крен $\\gamma$, градус\")\n",
    "#fig3_ax2.set_xlabel(x_label)\n",
    "#fig3_ax2.grid(which='major', linewidth=2)\n",
    "#fig3_ax2.grid(which='minor')\n",
    "\n",
    "# Тангаж\n",
    "fig3_ax3.plot(time, theta_arr, color = 'k')\n",
    "fig3_ax3.set_ylabel(\"Тангаж ($\\Theta$), градус\")\n",
    "fig3_ax3.set_xlabel(x_label)\n",
    "fig3_ax3.grid(which='major', linewidth=2)\n",
    "fig3_ax3.grid(which='minor')\n",
    "#p_fromFile.append( p_fromFile[i])\n",
    "#fig3_ax3.plot(time, p_fromFile, color = 'b')\n",
    "#fig3_ax3.set_ylabel(\"Тангаж ($\\Theta$), градус\")\n",
    "#fig3_ax3.set_xlabel(x_label)\n",
    "#fig3_ax3.grid(which='major', linewidth=2)\n",
    "#fig3_ax3.grid(which='minor')\n",
    "\n",
    "ombx_arr.append(0) \n",
    "omby_arr.append(0)\n",
    "ombz_arr.append(0)\n",
    "\n",
    "# Графики построения углов ориентации\n",
    "fig11, (fig11_ax1,fig11_ax2, fig11_ax3) = pyplot.subplots(nrows=3, ncols=1, figsize=(15, 10)) # , fig4_ax4\n",
    "\n",
    "delta = 3\n",
    "fig11_ax1.plot(time, ombx_arr,color = 'k')\n",
    "fig11_ax1.set_ylabel(\"Угловая скорость body x $\\H$, градус/сек\")\n",
    "fig11_ax1.set_xlabel(x_label)\n",
    "fig11_ax1.grid(which='major', linewidth=2)\n",
    "fig11_ax1.grid(which='minor')\n",
    "\n",
    "delta = 1\n",
    "fig11_ax2.plot(time, omby_arr, color = 'k')\n",
    "fig11_ax2.set_ylabel(\"Угловая скорость body y $\\H$, градус/сек\")\n",
    "fig11_ax2.set_xlabel(x_label)\n",
    "fig11_ax2.grid(which='major', linewidth=2)\n",
    "fig11_ax2.grid(which='minor')\n",
    "\n",
    "fig11_ax3.plot(time, ombz_arr, color = 'k')\n",
    "fig11_ax3.set_ylabel(\"Уговая скорость body z $\\H$, градус/сек\")\n",
    "fig11_ax3.set_xlabel(x_label)\n",
    "fig11_ax3.grid(which='major', linewidth=2)\n",
    "fig11_ax3.grid(which='minor')\n",
    "\n",
    "acsbx_arr.append(a_1[i]) # acsbx_arr[i-1]\n",
    "acsby_arr.append(a_2[i]) #acsby_arr[i-1]\n",
    "\n",
    "x_label = \"Время, мин\"\n",
    "fig12, (fig12_ax1,fig12_ax2) = pyplot.subplots(nrows=2, ncols=1, figsize=(15, 10))\n",
    "\n",
    "fig12_ax1.plot(time, acsbx_arr, color = 'k')\n",
    "fig12_ax1.set_ylabel(\"$Ускорение body x$, м/с\")\n",
    "fig12_ax1.set_xlabel(x_label)\n",
    "fig12_ax1.grid(which='major', linewidth=2)\n",
    "fig12_ax1.grid(which='minor')\n",
    "\n",
    "fig12_ax2.plot(time, acsby_arr,color = 'k')\n",
    "fig12_ax2.set_ylabel(\"$Ускорение body y$, м/с\")\n",
    "fig12_ax2.set_xlabel(x_label)\n",
    "fig12_ax2.grid(which='major', linewidth=2)\n",
    "fig12_ax2.grid(which='minor')\n",
    "\n",
    "acsLx_arr.append(acs_LL[0]) #acsLx_arr[i-1]\n",
    "acsLy_arr.append(acs_LL[1]) #acsLy_arr[i-1]\n",
    "\n",
    "x_label = \"Время, мин\"\n",
    "fig13, (fig13_ax1,fig13_ax2) = pyplot.subplots(nrows=2, ncols=1, figsize=(15, 10))\n",
    "\n",
    "fig13_ax1.plot(time, acsLx_arr, color = 'k')\n",
    "fig13_ax1.set_ylabel(\"$Ускорение LL E$, м/с\")\n",
    "fig13_ax1.set_xlabel(x_label)\n",
    "fig13_ax1.grid(which='major', linewidth=2)\n",
    "fig13_ax1.grid(which='minor')\n",
    "\n",
    "fig13_ax2.plot(time, acsLy_arr,color = 'k')\n",
    "fig13_ax2.set_ylabel(\"$Ускорение LL N$, м/с\")\n",
    "fig13_ax2.set_xlabel(x_label)\n",
    "fig13_ax2.grid(which='major', linewidth=2)\n",
    "fig13_ax2.grid(which='minor')\n",
    "\n",
    "acsLkn_arr.append(an_k)\n",
    "acsLke_arr.append(ae_k)\n",
    "\n",
    "x_label = \"Время, мин\"\n",
    "fig13, (fig13_ax1,fig13_ax2) = pyplot.subplots(nrows=2, ncols=1, figsize=(15, 10))\n",
    "\n",
    "fig13_ax1.plot(time, acsLke_arr, color = 'k')\n",
    "fig13_ax1.set_ylabel(\"$Ускорение LL E с кориолисовыми добавками$, м/с\")\n",
    "fig13_ax1.set_xlabel(x_label)\n",
    "fig13_ax1.grid(which='major', linewidth=2)\n",
    "fig13_ax1.grid(which='minor')\n",
    "\n",
    "fig13_ax2.plot(time, acsLkn_arr,color = 'k')\n",
    "fig13_ax2.set_ylabel(\"$Ускорение LL N с кориолисовыми добавками$, м/с\")\n",
    "fig13_ax2.set_xlabel(x_label)\n",
    "fig13_ax2.grid(which='major', linewidth=2)\n",
    "fig13_ax2.grid(which='minor')\n",
    "\n",
    "pyplot.show()"
   ]
  },
  {
   "cell_type": "code",
   "execution_count": null,
   "metadata": {
    "id": "oDC0OJ_ma4pj",
    "pycharm": {
     "name": "#%%\n"
    }
   },
   "outputs": [],
   "source": [
    "# Приращение углов\n",
    "#  F_x = dus_1[i]*f\n",
    "#  F_y = dus_2[i]*f\n",
    "#  F_z = dus_3[i]*f\n",
    "\n",
    "#  deltaF = np.sqrt(F_x**2+F_y**2+F_z**2)\n",
    "#  if deltaF != 0:\n",
    "#    deltalmd0=np.cos(deltaF/2)\n",
    "#    deltalmd1=F_x/deltaF*np.sin(deltaF/2)\n",
    "#    deltalmd2=F_y/deltaF*np.sin(deltaF/2)\n",
    "#    deltalmd3=F_z/deltaF*np.sin(deltaF/2) \n",
    "#    A = np.array([[deltalmd0, -deltalmd1, -deltalmd2, -deltalmd3], [deltalmd1, deltalmd0, deltalmd3, -deltalmd2],\n",
    "#                    [deltalmd2, -deltalmd3, deltalmd0, deltalmd1], [deltalmd3, deltalmd2, -deltalmd1, deltalmd0]])\n",
    "#    Qpr = [Q2[0],Q2[1],Q2[2],Q2[3]] #) #np.array(\n",
    "#    Q1 = np.dot(A, Qpr)\n",
    "#  else:\n",
    "#    Q1 = Q2\n",
    "#  Q1 = normalization(Q1)\n",
    "#  omegaxnSS = -Vn/(Rphi) #-k3*(fi - fi0);\n",
    "#  omegaynSS = Ve/(Rl)+U*np.cos(fi) #+k3*(lm-lm)*np.cos(fi);\n",
    "#  omegaznSS = Ve/(Rl)*np.tan(fi)+U*np.sin(fi);\n",
    "#  omegaxn = omegaxnSS\n",
    "#  omegayn = omegaynSS\n",
    "#  omegazn = omegaznSS \n",
    "#  omegan = np.sqrt(omegaxn**2+omegayn**2+omegazn**2)        \n",
    "\n",
    "#  if omegan !=0:\n",
    "#    deltam0 = np.cos((omegan)*f/2);\n",
    "#    deltam1 = -(omegaxn)/(omegan)*np.sin((omegan)*f/2)\n",
    "#    deltam2 = -(omegayn)/(omegan)*np.sin((omegan)*f/2)\n",
    "#    deltam3 = -(omegazn)/(omegan)*np.sin((omegan)*f/2)   \n",
    "#    q0 = Q1[0]\n",
    "#    q1 = Q1[1]\n",
    "#    q2 = Q1[2]\n",
    "#    q3 = Q1[3]\n",
    "#    D = np.array(np.zeros((4, 4)))\n",
    "#    D = np.array([[q0, -q1, -q2, -q3], [q1, q0, q3, -q2], [q2, -q3, q0, q1], [q3, q2, -q1, q0]])\n",
    "#    Q2m = np.dot(D,[deltam0, deltam1, deltam2, deltam3]) #)  np.array(\n",
    "#    Q2 = np.array([Q2m[0], Q2m[1], Q2m[2], Q2m[3]])\n",
    "#  else:\n",
    "#    Q2 = Q1\n",
    "#    Q2 = normalization(Q2)\n",
    "#  Q2 = Q1\n",
    "\n",
    "\n",
    "\n",
    "\n",
    "      # Расчет МНК через кватернион\n",
    "    #q0, qvec = angle2quat(h_fromFile[i], r_fromFile[i], p_fromFile[i])\n",
    "    #Q2 = [q0, qvec[0], qvec[1], qvec[2]]\n",
    "    #Q2 = quat(h_fromFile[i], r_fromFile[i], p_fromFile[i])\n",
    "    #H_arr.append(rad2deg*(np.arctan(2*(Q2[0]*Q2[2]-Q2[1]*Q2[3])/(Q2[0]**2+Q2[1]**2-0.5)))) # Курс\n",
    "    #theta_arr.append(rad2deg*(np.arcsin(2*Q2[1]*Q2[2]+2*Q2[0]*Q2[3]))) # Тангаж\n",
    "    #gamma_arr.append(rad2deg*(2*np.arctan((Q2[0]*Q2[1]-Q2[2]*Q2[3])/(Q2[0]**2+Q2[2]**2-0.5)))) # Крен"
   ]
  }
 ],
 "metadata": {
  "accelerator": "GPU",
  "colab": {
   "provenance": [],
   "toc_visible": true
  },
  "gpuClass": "standard",
  "kernelspec": {
   "display_name": "Python 3",
   "name": "python3"
  },
  "language_info": {
   "name": "python"
  }
 },
 "nbformat": 4,
 "nbformat_minor": 0
}